{
  "nbformat": 4,
  "nbformat_minor": 0,
  "metadata": {
    "colab": {
      "provenance": []
    },
    "kernelspec": {
      "name": "python3",
      "display_name": "Python 3"
    },
    "language_info": {
      "name": "python"
    }
  },
  "cells": [
    {
      "cell_type": "markdown",
      "source": [
        "**Import Libraries**"
      ],
      "metadata": {
        "id": "Q2v9UHafJ3bb"
      }
    },
    {
      "cell_type": "code",
      "execution_count": 125,
      "metadata": {
        "id": "ZnrVNws_yVHS",
        "colab": {
          "base_uri": "https://localhost:8080/"
        },
        "outputId": "862c385d-6865-4f38-e50f-70505a72f07a"
      },
      "outputs": [
        {
          "output_type": "stream",
          "name": "stderr",
          "text": [
            "[nltk_data] Downloading package punkt to /root/nltk_data...\n",
            "[nltk_data]   Package punkt is already up-to-date!\n"
          ]
        }
      ],
      "source": [
        "import xml.etree.ElementTree as ET\n",
        "import pandas as pd\n",
        "import matplotlib.pyplot as plt\n",
        "import numpy as np\n",
        "import seaborn as sns\n",
        "import nltk\n",
        "nltk.download('punkt')\n",
        "from sklearn.linear_model import LogisticRegression\n",
        "from sklearn.metrics import roc_curve, auc\n",
        "from imblearn.combine import SMOTETomek\n",
        "from sklearn.model_selection import train_test_split\n",
        "from sklearn.metrics import precision_score, recall_score, f1_score\n",
        "from sklearn.naive_bayes import MultinomialNB\n",
        "from sklearn.preprocessing import StandardScaler\n",
        "import xgboost as xgb\n",
        "from sklearn.metrics import accuracy_score\n",
        "from sklearn.metrics import roc_auc_score, confusion_matrix\n",
        "\n",
        "import warnings\n",
        "warnings.filterwarnings(\"ignore\", category=DeprecationWarning)"
      ]
    },
    {
      "cell_type": "markdown",
      "source": [
        "# **1.Dataset Creation**"
      ],
      "metadata": {
        "id": "_sb_MEzo_lPW"
      }
    },
    {
      "cell_type": "markdown",
      "source": [
        "We aim to extract data from an XML file and save it in a properly structured CSV format. To achieve this, we utilized the ElementTree library for parsing and extracting data from the XML file. The extracted data is then stored in a file named dataset.csv."
      ],
      "metadata": {
        "id": "SPNuv1Jx_wKy"
      }
    },
    {
      "cell_type": "code",
      "source": [
        "#Parse the xml file\n",
        "tree = ET.parse('/content/drive/MyDrive/New Stack Exchange/physics.stackexchange.com(1)/Posts.xml')\n",
        "root = tree.getroot()\n",
        "\n",
        "# define the columns of the dataset\n",
        "columns = ['Id', 'PostTypeId', 'AcceptedAnswerId', 'Score', 'ViewCount', 'Tags', 'Title', 'Body', 'AnswerCount', 'CommentCount', 'FavoriteCount']\n",
        "\n",
        "# create an empty list to store the data\n",
        "data = []\n",
        "\n",
        "for row in root.findall('.//row'):\n",
        "\n",
        "  id_val = row.get('Id')\n",
        "  post_type_id = row.get('PostTypeId')\n",
        "  accepted_answer_id = row.get('AcceptedAnswerId')\n",
        "  score = row.get('Score')\n",
        "  Title = row.get('Title')\n",
        "  view_count = row.get('ViewCount')\n",
        "  Tags = row.get('Tags')\n",
        "  body = row.get('Body')\n",
        "  answer_count = row.get('AnswerCount')\n",
        "  comment_count = row.get('CommentCount')\n",
        "  favorite_count = row.get('FavoriteCount')\n",
        "\n",
        "  # Append the attribute values as a list to the data list\n",
        "  if int(post_type_id) == 1:\n",
        "    data.append([id_val, post_type_id, accepted_answer_id, score, view_count, Tags, Title, body, answer_count, comment_count, favorite_count])\n",
        "\n",
        "\n",
        "df = pd.DataFrame(data, columns=columns)\n",
        "\n",
        "df.to_csv('dataset.csv', index=False)\n",
        "print('dataset.csv created ')"
      ],
      "metadata": {
        "colab": {
          "base_uri": "https://localhost:8080/"
        },
        "id": "ow-QRS04_YXi",
        "outputId": "dce7097c-2914-4171-a359-57ff078ee7a9"
      },
      "execution_count": 126,
      "outputs": [
        {
          "output_type": "stream",
          "name": "stdout",
          "text": [
            "dataset.csv created \n"
          ]
        }
      ]
    },
    {
      "cell_type": "markdown",
      "source": [
        "2. To handle the large size of the dataset, we are employing Simple Random Sampling to create a representative subset of the data."
      ],
      "metadata": {
        "id": "a-jD8E15W2fq"
      }
    },
    {
      "cell_type": "code",
      "source": [
        "df = pd.read_csv('dataset.csv', encoding='iso-8859-1')\n",
        "\n",
        "# randomly sample 50000 rows from the dataframe\n",
        "sample = df.sample(n=50000, replace=False, random_state=42)\n",
        "\n",
        "sample.to_csv('sampled_dataset.csv')\n",
        "print('sampled_dataset created')\n",
        "print('Shape of dataset',sample.shape)"
      ],
      "metadata": {
        "colab": {
          "base_uri": "https://localhost:8080/"
        },
        "id": "C91879UnR8JM",
        "outputId": "fcde3155-5198-46eb-c22b-3d2a8e8048ba"
      },
      "execution_count": 127,
      "outputs": [
        {
          "output_type": "stream",
          "name": "stdout",
          "text": [
            "sampled_dataset created\n",
            "Shape of dataset (50000, 11)\n"
          ]
        }
      ]
    },
    {
      "cell_type": "markdown",
      "source": [
        "**3. Create complete dataset**"
      ],
      "metadata": {
        "id": "ANR_xFSmuF12"
      }
    },
    {
      "cell_type": "markdown",
      "source": [
        "We need to generate dependent features based on the independent features and the answer count, applying specific conditions to define the relationships."
      ],
      "metadata": {
        "id": "Lwi6-1PKukGW"
      }
    },
    {
      "cell_type": "code",
      "source": [
        "df = pd.read_csv('sampled_dataset.csv')\n",
        "\n",
        "#create a new column that labels questions as 'good-quality', 'low quality', 'very-low quality'\n",
        "def label_question(row):\n",
        "  if row['Score'] > 5 and row['AnswerCount'] > 0:\n",
        "    return 'good quality'\n",
        "  elif row['Score'] <= 5 and row['Score'] >= 0 and row['AnswerCount'] >= 0:\n",
        "    return 'low quality'\n",
        "  elif row['Score'] < 0:\n",
        "    return 'very low quality'\n",
        "  else:\n",
        "    return 'unknown'\n",
        "\n",
        "df['question_quality'] = df.apply(label_question, axis=1)\n",
        "\n",
        "# convert dataframe to csv file\n",
        "df.to_csv(\"complete_dataset.csv\")\n",
        "print(\"complete_dataset created\")"
      ],
      "metadata": {
        "id": "Kk1AAMl7YNta",
        "colab": {
          "base_uri": "https://localhost:8080/"
        },
        "outputId": "12557ba5-07cb-4f63-9c82-c2d8b96b04bd"
      },
      "execution_count": 128,
      "outputs": [
        {
          "output_type": "stream",
          "name": "stdout",
          "text": [
            "complete_dataset created\n"
          ]
        }
      ]
    },
    {
      "cell_type": "code",
      "source": [
        "data = pd.read_csv('complete_dataset.csv')"
      ],
      "metadata": {
        "id": "twfh5ftZy54t"
      },
      "execution_count": 129,
      "outputs": []
    },
    {
      "cell_type": "markdown",
      "source": [
        "# **2. Data Cleaning**"
      ],
      "metadata": {
        "id": "n4fpN6ti1wdo"
      }
    },
    {
      "cell_type": "markdown",
      "source": [
        "We are dropping irrelevant or unimportant columns that are not being used in the analysis. While columns like AnswerCount and Score were initially used to create dependent features, they are no longer needed and are therefore being removed."
      ],
      "metadata": {
        "id": "n1ZwcJsU2V_8"
      }
    },
    {
      "cell_type": "code",
      "source": [
        "col = ['Unnamed: 0', 'Unnamed: 0.1', 'Id', 'PostTypeId', 'AcceptedAnswerId', 'AnswerCount', 'Score']\n",
        "data.drop(col, inplace=True, axis=1)"
      ],
      "metadata": {
        "id": "34Ho50S01r7D"
      },
      "execution_count": 130,
      "outputs": []
    },
    {
      "cell_type": "markdown",
      "source": [
        "We are creating features for the length of the Title and Body data. Additionally, we are cleaning the Body text column by removing tags and unwanted characters."
      ],
      "metadata": {
        "id": "-5HdLtfh4MFO"
      }
    },
    {
      "cell_type": "code",
      "source": [
        "# Remove <p> and </p> tags from the 'Body' column\n",
        "data['Body'] = data['Body'].str.replace('<p>', '').str.replace('</p>', '')\n",
        "data.head()"
      ],
      "metadata": {
        "colab": {
          "base_uri": "https://localhost:8080/",
          "height": 400
        },
        "id": "2pVoOE_a3khz",
        "outputId": "4a2bbceb-5dfd-4806-fc3a-63f35ff749c8"
      },
      "execution_count": 131,
      "outputs": [
        {
          "output_type": "execute_result",
          "data": {
            "text/plain": [
              "   ViewCount                                               Tags  \\\n",
              "0        165      <electromagnetism><electromagnetic-induction>   \n",
              "1      15804  <newtonian-mechanics><classical-mechanics><flu...   \n",
              "2        965  <condensed-matter><solid-state-physics><diffra...   \n",
              "3        110      <string-theory><topology><branes><calabi-yau>   \n",
              "4         59  <homework-and-exercises><electromagnetism><mag...   \n",
              "\n",
              "                                               Title  \\\n",
              "0        What is doing work in eddy current braking?   \n",
              "1  Why is a beam reach the fastest point of sail ...   \n",
              "2  What does $d$-spacing between planes in a crys...   \n",
              "3  D-brane wrapping in the geometric transition f...   \n",
              "4  Show $2(B \\cdot \\nabla)B = \\nabla |B|^2$ when ...   \n",
              "\n",
              "                                                Body  CommentCount  \\\n",
              "0  Suppose we throw a metallic plate through the ...             0   \n",
              "1  I've heard that a beam reach (perpendicular to...             4   \n",
              "2  I have trouble understanding the meaning of $d...             1   \n",
              "3  In Stefan Metzger's thesis (<a href=\"https://a...             1   \n",
              "4  I was able to show for myself that \\n<span cla...             2   \n",
              "\n",
              "   FavoriteCount question_quality  \n",
              "0            NaN      low quality  \n",
              "1            5.0     good quality  \n",
              "2            NaN      low quality  \n",
              "3            1.0      low quality  \n",
              "4            NaN      low quality  "
            ],
            "text/html": [
              "\n",
              "  <div id=\"df-172de33c-8aac-4298-b26c-edda43e7df5d\" class=\"colab-df-container\">\n",
              "    <div>\n",
              "<style scoped>\n",
              "    .dataframe tbody tr th:only-of-type {\n",
              "        vertical-align: middle;\n",
              "    }\n",
              "\n",
              "    .dataframe tbody tr th {\n",
              "        vertical-align: top;\n",
              "    }\n",
              "\n",
              "    .dataframe thead th {\n",
              "        text-align: right;\n",
              "    }\n",
              "</style>\n",
              "<table border=\"1\" class=\"dataframe\">\n",
              "  <thead>\n",
              "    <tr style=\"text-align: right;\">\n",
              "      <th></th>\n",
              "      <th>ViewCount</th>\n",
              "      <th>Tags</th>\n",
              "      <th>Title</th>\n",
              "      <th>Body</th>\n",
              "      <th>CommentCount</th>\n",
              "      <th>FavoriteCount</th>\n",
              "      <th>question_quality</th>\n",
              "    </tr>\n",
              "  </thead>\n",
              "  <tbody>\n",
              "    <tr>\n",
              "      <th>0</th>\n",
              "      <td>165</td>\n",
              "      <td>&lt;electromagnetism&gt;&lt;electromagnetic-induction&gt;</td>\n",
              "      <td>What is doing work in eddy current braking?</td>\n",
              "      <td>Suppose we throw a metallic plate through the ...</td>\n",
              "      <td>0</td>\n",
              "      <td>NaN</td>\n",
              "      <td>low quality</td>\n",
              "    </tr>\n",
              "    <tr>\n",
              "      <th>1</th>\n",
              "      <td>15804</td>\n",
              "      <td>&lt;newtonian-mechanics&gt;&lt;classical-mechanics&gt;&lt;flu...</td>\n",
              "      <td>Why is a beam reach the fastest point of sail ...</td>\n",
              "      <td>I've heard that a beam reach (perpendicular to...</td>\n",
              "      <td>4</td>\n",
              "      <td>5.0</td>\n",
              "      <td>good quality</td>\n",
              "    </tr>\n",
              "    <tr>\n",
              "      <th>2</th>\n",
              "      <td>965</td>\n",
              "      <td>&lt;condensed-matter&gt;&lt;solid-state-physics&gt;&lt;diffra...</td>\n",
              "      <td>What does $d$-spacing between planes in a crys...</td>\n",
              "      <td>I have trouble understanding the meaning of $d...</td>\n",
              "      <td>1</td>\n",
              "      <td>NaN</td>\n",
              "      <td>low quality</td>\n",
              "    </tr>\n",
              "    <tr>\n",
              "      <th>3</th>\n",
              "      <td>110</td>\n",
              "      <td>&lt;string-theory&gt;&lt;topology&gt;&lt;branes&gt;&lt;calabi-yau&gt;</td>\n",
              "      <td>D-brane wrapping in the geometric transition f...</td>\n",
              "      <td>In Stefan Metzger's thesis (&lt;a href=\"https://a...</td>\n",
              "      <td>1</td>\n",
              "      <td>1.0</td>\n",
              "      <td>low quality</td>\n",
              "    </tr>\n",
              "    <tr>\n",
              "      <th>4</th>\n",
              "      <td>59</td>\n",
              "      <td>&lt;homework-and-exercises&gt;&lt;electromagnetism&gt;&lt;mag...</td>\n",
              "      <td>Show $2(B \\cdot \\nabla)B = \\nabla |B|^2$ when ...</td>\n",
              "      <td>I was able to show for myself that \\n&lt;span cla...</td>\n",
              "      <td>2</td>\n",
              "      <td>NaN</td>\n",
              "      <td>low quality</td>\n",
              "    </tr>\n",
              "  </tbody>\n",
              "</table>\n",
              "</div>\n",
              "    <div class=\"colab-df-buttons\">\n",
              "\n",
              "  <div class=\"colab-df-container\">\n",
              "    <button class=\"colab-df-convert\" onclick=\"convertToInteractive('df-172de33c-8aac-4298-b26c-edda43e7df5d')\"\n",
              "            title=\"Convert this dataframe to an interactive table.\"\n",
              "            style=\"display:none;\">\n",
              "\n",
              "  <svg xmlns=\"http://www.w3.org/2000/svg\" height=\"24px\" viewBox=\"0 -960 960 960\">\n",
              "    <path d=\"M120-120v-720h720v720H120Zm60-500h600v-160H180v160Zm220 220h160v-160H400v160Zm0 220h160v-160H400v160ZM180-400h160v-160H180v160Zm440 0h160v-160H620v160ZM180-180h160v-160H180v160Zm440 0h160v-160H620v160Z\"/>\n",
              "  </svg>\n",
              "    </button>\n",
              "\n",
              "  <style>\n",
              "    .colab-df-container {\n",
              "      display:flex;\n",
              "      gap: 12px;\n",
              "    }\n",
              "\n",
              "    .colab-df-convert {\n",
              "      background-color: #E8F0FE;\n",
              "      border: none;\n",
              "      border-radius: 50%;\n",
              "      cursor: pointer;\n",
              "      display: none;\n",
              "      fill: #1967D2;\n",
              "      height: 32px;\n",
              "      padding: 0 0 0 0;\n",
              "      width: 32px;\n",
              "    }\n",
              "\n",
              "    .colab-df-convert:hover {\n",
              "      background-color: #E2EBFA;\n",
              "      box-shadow: 0px 1px 2px rgba(60, 64, 67, 0.3), 0px 1px 3px 1px rgba(60, 64, 67, 0.15);\n",
              "      fill: #174EA6;\n",
              "    }\n",
              "\n",
              "    .colab-df-buttons div {\n",
              "      margin-bottom: 4px;\n",
              "    }\n",
              "\n",
              "    [theme=dark] .colab-df-convert {\n",
              "      background-color: #3B4455;\n",
              "      fill: #D2E3FC;\n",
              "    }\n",
              "\n",
              "    [theme=dark] .colab-df-convert:hover {\n",
              "      background-color: #434B5C;\n",
              "      box-shadow: 0px 1px 3px 1px rgba(0, 0, 0, 0.15);\n",
              "      filter: drop-shadow(0px 1px 2px rgba(0, 0, 0, 0.3));\n",
              "      fill: #FFFFFF;\n",
              "    }\n",
              "  </style>\n",
              "\n",
              "    <script>\n",
              "      const buttonEl =\n",
              "        document.querySelector('#df-172de33c-8aac-4298-b26c-edda43e7df5d button.colab-df-convert');\n",
              "      buttonEl.style.display =\n",
              "        google.colab.kernel.accessAllowed ? 'block' : 'none';\n",
              "\n",
              "      async function convertToInteractive(key) {\n",
              "        const element = document.querySelector('#df-172de33c-8aac-4298-b26c-edda43e7df5d');\n",
              "        const dataTable =\n",
              "          await google.colab.kernel.invokeFunction('convertToInteractive',\n",
              "                                                    [key], {});\n",
              "        if (!dataTable) return;\n",
              "\n",
              "        const docLinkHtml = 'Like what you see? Visit the ' +\n",
              "          '<a target=\"_blank\" href=https://colab.research.google.com/notebooks/data_table.ipynb>data table notebook</a>'\n",
              "          + ' to learn more about interactive tables.';\n",
              "        element.innerHTML = '';\n",
              "        dataTable['output_type'] = 'display_data';\n",
              "        await google.colab.output.renderOutput(dataTable, element);\n",
              "        const docLink = document.createElement('div');\n",
              "        docLink.innerHTML = docLinkHtml;\n",
              "        element.appendChild(docLink);\n",
              "      }\n",
              "    </script>\n",
              "  </div>\n",
              "\n",
              "\n",
              "<div id=\"df-4e36e349-d248-4191-9040-8ea10bbd4713\">\n",
              "  <button class=\"colab-df-quickchart\" onclick=\"quickchart('df-4e36e349-d248-4191-9040-8ea10bbd4713')\"\n",
              "            title=\"Suggest charts\"\n",
              "            style=\"display:none;\">\n",
              "\n",
              "<svg xmlns=\"http://www.w3.org/2000/svg\" height=\"24px\"viewBox=\"0 0 24 24\"\n",
              "     width=\"24px\">\n",
              "    <g>\n",
              "        <path d=\"M19 3H5c-1.1 0-2 .9-2 2v14c0 1.1.9 2 2 2h14c1.1 0 2-.9 2-2V5c0-1.1-.9-2-2-2zM9 17H7v-7h2v7zm4 0h-2V7h2v10zm4 0h-2v-4h2v4z\"/>\n",
              "    </g>\n",
              "</svg>\n",
              "  </button>\n",
              "\n",
              "<style>\n",
              "  .colab-df-quickchart {\n",
              "      --bg-color: #E8F0FE;\n",
              "      --fill-color: #1967D2;\n",
              "      --hover-bg-color: #E2EBFA;\n",
              "      --hover-fill-color: #174EA6;\n",
              "      --disabled-fill-color: #AAA;\n",
              "      --disabled-bg-color: #DDD;\n",
              "  }\n",
              "\n",
              "  [theme=dark] .colab-df-quickchart {\n",
              "      --bg-color: #3B4455;\n",
              "      --fill-color: #D2E3FC;\n",
              "      --hover-bg-color: #434B5C;\n",
              "      --hover-fill-color: #FFFFFF;\n",
              "      --disabled-bg-color: #3B4455;\n",
              "      --disabled-fill-color: #666;\n",
              "  }\n",
              "\n",
              "  .colab-df-quickchart {\n",
              "    background-color: var(--bg-color);\n",
              "    border: none;\n",
              "    border-radius: 50%;\n",
              "    cursor: pointer;\n",
              "    display: none;\n",
              "    fill: var(--fill-color);\n",
              "    height: 32px;\n",
              "    padding: 0;\n",
              "    width: 32px;\n",
              "  }\n",
              "\n",
              "  .colab-df-quickchart:hover {\n",
              "    background-color: var(--hover-bg-color);\n",
              "    box-shadow: 0 1px 2px rgba(60, 64, 67, 0.3), 0 1px 3px 1px rgba(60, 64, 67, 0.15);\n",
              "    fill: var(--button-hover-fill-color);\n",
              "  }\n",
              "\n",
              "  .colab-df-quickchart-complete:disabled,\n",
              "  .colab-df-quickchart-complete:disabled:hover {\n",
              "    background-color: var(--disabled-bg-color);\n",
              "    fill: var(--disabled-fill-color);\n",
              "    box-shadow: none;\n",
              "  }\n",
              "\n",
              "  .colab-df-spinner {\n",
              "    border: 2px solid var(--fill-color);\n",
              "    border-color: transparent;\n",
              "    border-bottom-color: var(--fill-color);\n",
              "    animation:\n",
              "      spin 1s steps(1) infinite;\n",
              "  }\n",
              "\n",
              "  @keyframes spin {\n",
              "    0% {\n",
              "      border-color: transparent;\n",
              "      border-bottom-color: var(--fill-color);\n",
              "      border-left-color: var(--fill-color);\n",
              "    }\n",
              "    20% {\n",
              "      border-color: transparent;\n",
              "      border-left-color: var(--fill-color);\n",
              "      border-top-color: var(--fill-color);\n",
              "    }\n",
              "    30% {\n",
              "      border-color: transparent;\n",
              "      border-left-color: var(--fill-color);\n",
              "      border-top-color: var(--fill-color);\n",
              "      border-right-color: var(--fill-color);\n",
              "    }\n",
              "    40% {\n",
              "      border-color: transparent;\n",
              "      border-right-color: var(--fill-color);\n",
              "      border-top-color: var(--fill-color);\n",
              "    }\n",
              "    60% {\n",
              "      border-color: transparent;\n",
              "      border-right-color: var(--fill-color);\n",
              "    }\n",
              "    80% {\n",
              "      border-color: transparent;\n",
              "      border-right-color: var(--fill-color);\n",
              "      border-bottom-color: var(--fill-color);\n",
              "    }\n",
              "    90% {\n",
              "      border-color: transparent;\n",
              "      border-bottom-color: var(--fill-color);\n",
              "    }\n",
              "  }\n",
              "</style>\n",
              "\n",
              "  <script>\n",
              "    async function quickchart(key) {\n",
              "      const quickchartButtonEl =\n",
              "        document.querySelector('#' + key + ' button');\n",
              "      quickchartButtonEl.disabled = true;  // To prevent multiple clicks.\n",
              "      quickchartButtonEl.classList.add('colab-df-spinner');\n",
              "      try {\n",
              "        const charts = await google.colab.kernel.invokeFunction(\n",
              "            'suggestCharts', [key], {});\n",
              "      } catch (error) {\n",
              "        console.error('Error during call to suggestCharts:', error);\n",
              "      }\n",
              "      quickchartButtonEl.classList.remove('colab-df-spinner');\n",
              "      quickchartButtonEl.classList.add('colab-df-quickchart-complete');\n",
              "    }\n",
              "    (() => {\n",
              "      let quickchartButtonEl =\n",
              "        document.querySelector('#df-4e36e349-d248-4191-9040-8ea10bbd4713 button');\n",
              "      quickchartButtonEl.style.display =\n",
              "        google.colab.kernel.accessAllowed ? 'block' : 'none';\n",
              "    })();\n",
              "  </script>\n",
              "</div>\n",
              "\n",
              "    </div>\n",
              "  </div>\n"
            ],
            "application/vnd.google.colaboratory.intrinsic+json": {
              "type": "dataframe",
              "variable_name": "data",
              "summary": "{\n  \"name\": \"data\",\n  \"rows\": 50000,\n  \"fields\": [\n    {\n      \"column\": \"ViewCount\",\n      \"properties\": {\n        \"dtype\": \"number\",\n        \"std\": 5967,\n        \"min\": 3,\n        \"max\": 434533,\n        \"num_unique_values\": 6113,\n        \"samples\": [\n          7365,\n          335,\n          1281\n        ],\n        \"semantic_type\": \"\",\n        \"description\": \"\"\n      }\n    },\n    {\n      \"column\": \"Tags\",\n      \"properties\": {\n        \"dtype\": \"string\",\n        \"num_unique_values\": 32942,\n        \"samples\": [\n          \"<quantum-field-theory><quantum-computer><computational-physics><computer>\",\n          \"<quantum-mechanics><states-of-matter>\",\n          \"<newtonian-mechanics><material-science><stress-strain><volume>\"\n        ],\n        \"semantic_type\": \"\",\n        \"description\": \"\"\n      }\n    },\n    {\n      \"column\": \"Title\",\n      \"properties\": {\n        \"dtype\": \"string\",\n        \"num_unique_values\": 49994,\n        \"samples\": [\n          \"how can u control the speed of light?\",\n          \"Rough diffusion rate of sugar water through a larger volume of water\",\n          \"Where can I find beginner's information about quantum mechanics?\"\n        ],\n        \"semantic_type\": \"\",\n        \"description\": \"\"\n      }\n    },\n    {\n      \"column\": \"Body\",\n      \"properties\": {\n        \"dtype\": \"string\",\n        \"num_unique_values\": 50000,\n        \"samples\": [\n          \"If we come from the physics side, the hamiltonian formalism usually is introduced via generalized coordinates (which are just a collection of numbers stuffed into a vector ($\\\\vec{q}$), and the lagrangian formalism. Legendre transform of the Lagrangian yields the hamiltonian, and so on.\\n\\nIn this formulation, the canonical equations of motion\\n\\\\begin{align}\\n\\\\dot{\\\\vec{q}} = \\\\frac{\\\\partial H}{\\\\partial p} \\\\\\\\\\n\\\\dot{\\\\vec{p}} = -\\\\frac{\\\\partial H}{\\\\partial q}\\n\\\\end{align}\\nfollow from an action principle. The action \\n\\\\begin{align}\\n\\\\int dt~\\\\left( \\\\dot{\\\\vec{q}} \\\\cdot\\\\vec{p} - H(\\\\vec{q}, \\\\vec{p}, t)\\\\right)\\n\\\\end{align}\\nis stationary with respect to variations with $\\\\vec{q}(t_2)$ and $\\\\vec{q}(t_1)$ fixed. \\nNow I've read up more mathematical formulations, that employ the concept of manifolds. In some, the phase space is introduced as cotant space over the configuration space, which means that $\\\\vec{q}$ now is a set of coordinates for a point in the configuration space Q (which is a manifold), $\\\\dot{\\\\vec{q}}$ is an element of the tangential space $T_{\\\\vec{q}}Q$, and $\\\\vec{p}$ is an element of the dual space to that tangent space. \\nUp to here it's no problem to write down the above mentioned action in the same manner. $\\\\dot{\\\\vec{q}}\\\\vec{p}$ now isn't anymore a scalar product, but it's instead the application of $\\\\vec{p}$ to \\\\dot{\\\\vec{q}}, which maps to a real number (and which perfectly makes sense). \\n\\nMy question is now: Can we keep up with the action formulation for cases in which the phase space (possibly) isn't a cotangent space anymore?\\nFor example, if it's just an even-dimensional space, equipped with a symplectic form, can we somehow still write down an action, that makes sense from a mathematical point of view?\\n\\nOr is my question not necessary, because every notion of phase space that appears in physics makes use of the phase space as a cotangent space?\\n\",\n          \"Not much more to add.   By shrink, I mean become more dense at the same pressure and temperature.\\n\\nAnd I don't mean vol(A+B) &lt; vol(A) + vol(B).   I'm sure this is possible.   \\n\\nIs it possible to get vol(A+B) &lt; vol(A)?\\n\",\n          \"I've been told that physicists and computer scientists are working on computers that could use quantum physics to increase significantly computation capabilities and break any cipher so cryptography becomes meaningless.\\n\\nIs it true?\\n\"\n        ],\n        \"semantic_type\": \"\",\n        \"description\": \"\"\n      }\n    },\n    {\n      \"column\": \"CommentCount\",\n      \"properties\": {\n        \"dtype\": \"number\",\n        \"std\": 2,\n        \"min\": 0,\n        \"max\": 34,\n        \"num_unique_values\": 34,\n        \"samples\": [\n          17,\n          24,\n          28\n        ],\n        \"semantic_type\": \"\",\n        \"description\": \"\"\n      }\n    },\n    {\n      \"column\": \"FavoriteCount\",\n      \"properties\": {\n        \"dtype\": \"number\",\n        \"std\": 4.89491457406651,\n        \"min\": 0.0,\n        \"max\": 162.0,\n        \"num_unique_values\": 76,\n        \"samples\": [\n          22.0,\n          29.0,\n          12.0\n        ],\n        \"semantic_type\": \"\",\n        \"description\": \"\"\n      }\n    },\n    {\n      \"column\": \"question_quality\",\n      \"properties\": {\n        \"dtype\": \"category\",\n        \"num_unique_values\": 4,\n        \"samples\": [\n          \"good quality\",\n          \"unknown\",\n          \"low quality\"\n        ],\n        \"semantic_type\": \"\",\n        \"description\": \"\"\n      }\n    }\n  ]\n}"
            }
          },
          "metadata": {},
          "execution_count": 131
        }
      ]
    },
    {
      "cell_type": "markdown",
      "source": [
        "We are adding new features for the Title and Body columns, specifically the character count and word count for each."
      ],
      "metadata": {
        "id": "3aqIuYul5y4V"
      }
    },
    {
      "cell_type": "code",
      "source": [
        "#calculate the character count and word count for 'Title' column and 'Body' column\n",
        "data['Title_Text_Length'] = data['Title'].str.len()\n",
        "\n",
        "data['Body_Text_Length'] = data['Body'].str.len()\n",
        "\n",
        "data['Body_Sentences_Count'] = data['Body'].apply(lambda x: len(str(x).split('.')) if isinstance(x, str) else 0)\n",
        "data.head()"
      ],
      "metadata": {
        "colab": {
          "base_uri": "https://localhost:8080/",
          "height": 695
        },
        "id": "y0WH1uXc5WLa",
        "outputId": "03a563f8-7550-4ccf-db5f-73fd6ebbbdda"
      },
      "execution_count": 132,
      "outputs": [
        {
          "output_type": "execute_result",
          "data": {
            "text/plain": [
              "   ViewCount                                               Tags  \\\n",
              "0        165      <electromagnetism><electromagnetic-induction>   \n",
              "1      15804  <newtonian-mechanics><classical-mechanics><flu...   \n",
              "2        965  <condensed-matter><solid-state-physics><diffra...   \n",
              "3        110      <string-theory><topology><branes><calabi-yau>   \n",
              "4         59  <homework-and-exercises><electromagnetism><mag...   \n",
              "\n",
              "                                               Title  \\\n",
              "0        What is doing work in eddy current braking?   \n",
              "1  Why is a beam reach the fastest point of sail ...   \n",
              "2  What does $d$-spacing between planes in a crys...   \n",
              "3  D-brane wrapping in the geometric transition f...   \n",
              "4  Show $2(B \\cdot \\nabla)B = \\nabla |B|^2$ when ...   \n",
              "\n",
              "                                                Body  CommentCount  \\\n",
              "0  Suppose we throw a metallic plate through the ...             0   \n",
              "1  I've heard that a beam reach (perpendicular to...             4   \n",
              "2  I have trouble understanding the meaning of $d...             1   \n",
              "3  In Stefan Metzger's thesis (<a href=\"https://a...             1   \n",
              "4  I was able to show for myself that \\n<span cla...             2   \n",
              "\n",
              "   FavoriteCount question_quality  Title_Text_Length  Body_Text_Length  \\\n",
              "0            NaN      low quality                 43               840   \n",
              "1            5.0     good quality                 66              2139   \n",
              "2            NaN      low quality                 63               445   \n",
              "3            1.0      low quality                 82              1477   \n",
              "4            NaN      low quality                 95               628   \n",
              "\n",
              "   Body_Sentences_Count  \n",
              "0                     9  \n",
              "1                    12  \n",
              "2                     4  \n",
              "3                    11  \n",
              "4                     8  "
            ],
            "text/html": [
              "\n",
              "  <div id=\"df-cc0c95a4-b59e-43b0-9b80-4376634cc3b1\" class=\"colab-df-container\">\n",
              "    <div>\n",
              "<style scoped>\n",
              "    .dataframe tbody tr th:only-of-type {\n",
              "        vertical-align: middle;\n",
              "    }\n",
              "\n",
              "    .dataframe tbody tr th {\n",
              "        vertical-align: top;\n",
              "    }\n",
              "\n",
              "    .dataframe thead th {\n",
              "        text-align: right;\n",
              "    }\n",
              "</style>\n",
              "<table border=\"1\" class=\"dataframe\">\n",
              "  <thead>\n",
              "    <tr style=\"text-align: right;\">\n",
              "      <th></th>\n",
              "      <th>ViewCount</th>\n",
              "      <th>Tags</th>\n",
              "      <th>Title</th>\n",
              "      <th>Body</th>\n",
              "      <th>CommentCount</th>\n",
              "      <th>FavoriteCount</th>\n",
              "      <th>question_quality</th>\n",
              "      <th>Title_Text_Length</th>\n",
              "      <th>Body_Text_Length</th>\n",
              "      <th>Body_Sentences_Count</th>\n",
              "    </tr>\n",
              "  </thead>\n",
              "  <tbody>\n",
              "    <tr>\n",
              "      <th>0</th>\n",
              "      <td>165</td>\n",
              "      <td>&lt;electromagnetism&gt;&lt;electromagnetic-induction&gt;</td>\n",
              "      <td>What is doing work in eddy current braking?</td>\n",
              "      <td>Suppose we throw a metallic plate through the ...</td>\n",
              "      <td>0</td>\n",
              "      <td>NaN</td>\n",
              "      <td>low quality</td>\n",
              "      <td>43</td>\n",
              "      <td>840</td>\n",
              "      <td>9</td>\n",
              "    </tr>\n",
              "    <tr>\n",
              "      <th>1</th>\n",
              "      <td>15804</td>\n",
              "      <td>&lt;newtonian-mechanics&gt;&lt;classical-mechanics&gt;&lt;flu...</td>\n",
              "      <td>Why is a beam reach the fastest point of sail ...</td>\n",
              "      <td>I've heard that a beam reach (perpendicular to...</td>\n",
              "      <td>4</td>\n",
              "      <td>5.0</td>\n",
              "      <td>good quality</td>\n",
              "      <td>66</td>\n",
              "      <td>2139</td>\n",
              "      <td>12</td>\n",
              "    </tr>\n",
              "    <tr>\n",
              "      <th>2</th>\n",
              "      <td>965</td>\n",
              "      <td>&lt;condensed-matter&gt;&lt;solid-state-physics&gt;&lt;diffra...</td>\n",
              "      <td>What does $d$-spacing between planes in a crys...</td>\n",
              "      <td>I have trouble understanding the meaning of $d...</td>\n",
              "      <td>1</td>\n",
              "      <td>NaN</td>\n",
              "      <td>low quality</td>\n",
              "      <td>63</td>\n",
              "      <td>445</td>\n",
              "      <td>4</td>\n",
              "    </tr>\n",
              "    <tr>\n",
              "      <th>3</th>\n",
              "      <td>110</td>\n",
              "      <td>&lt;string-theory&gt;&lt;topology&gt;&lt;branes&gt;&lt;calabi-yau&gt;</td>\n",
              "      <td>D-brane wrapping in the geometric transition f...</td>\n",
              "      <td>In Stefan Metzger's thesis (&lt;a href=\"https://a...</td>\n",
              "      <td>1</td>\n",
              "      <td>1.0</td>\n",
              "      <td>low quality</td>\n",
              "      <td>82</td>\n",
              "      <td>1477</td>\n",
              "      <td>11</td>\n",
              "    </tr>\n",
              "    <tr>\n",
              "      <th>4</th>\n",
              "      <td>59</td>\n",
              "      <td>&lt;homework-and-exercises&gt;&lt;electromagnetism&gt;&lt;mag...</td>\n",
              "      <td>Show $2(B \\cdot \\nabla)B = \\nabla |B|^2$ when ...</td>\n",
              "      <td>I was able to show for myself that \\n&lt;span cla...</td>\n",
              "      <td>2</td>\n",
              "      <td>NaN</td>\n",
              "      <td>low quality</td>\n",
              "      <td>95</td>\n",
              "      <td>628</td>\n",
              "      <td>8</td>\n",
              "    </tr>\n",
              "  </tbody>\n",
              "</table>\n",
              "</div>\n",
              "    <div class=\"colab-df-buttons\">\n",
              "\n",
              "  <div class=\"colab-df-container\">\n",
              "    <button class=\"colab-df-convert\" onclick=\"convertToInteractive('df-cc0c95a4-b59e-43b0-9b80-4376634cc3b1')\"\n",
              "            title=\"Convert this dataframe to an interactive table.\"\n",
              "            style=\"display:none;\">\n",
              "\n",
              "  <svg xmlns=\"http://www.w3.org/2000/svg\" height=\"24px\" viewBox=\"0 -960 960 960\">\n",
              "    <path d=\"M120-120v-720h720v720H120Zm60-500h600v-160H180v160Zm220 220h160v-160H400v160Zm0 220h160v-160H400v160ZM180-400h160v-160H180v160Zm440 0h160v-160H620v160ZM180-180h160v-160H180v160Zm440 0h160v-160H620v160Z\"/>\n",
              "  </svg>\n",
              "    </button>\n",
              "\n",
              "  <style>\n",
              "    .colab-df-container {\n",
              "      display:flex;\n",
              "      gap: 12px;\n",
              "    }\n",
              "\n",
              "    .colab-df-convert {\n",
              "      background-color: #E8F0FE;\n",
              "      border: none;\n",
              "      border-radius: 50%;\n",
              "      cursor: pointer;\n",
              "      display: none;\n",
              "      fill: #1967D2;\n",
              "      height: 32px;\n",
              "      padding: 0 0 0 0;\n",
              "      width: 32px;\n",
              "    }\n",
              "\n",
              "    .colab-df-convert:hover {\n",
              "      background-color: #E2EBFA;\n",
              "      box-shadow: 0px 1px 2px rgba(60, 64, 67, 0.3), 0px 1px 3px 1px rgba(60, 64, 67, 0.15);\n",
              "      fill: #174EA6;\n",
              "    }\n",
              "\n",
              "    .colab-df-buttons div {\n",
              "      margin-bottom: 4px;\n",
              "    }\n",
              "\n",
              "    [theme=dark] .colab-df-convert {\n",
              "      background-color: #3B4455;\n",
              "      fill: #D2E3FC;\n",
              "    }\n",
              "\n",
              "    [theme=dark] .colab-df-convert:hover {\n",
              "      background-color: #434B5C;\n",
              "      box-shadow: 0px 1px 3px 1px rgba(0, 0, 0, 0.15);\n",
              "      filter: drop-shadow(0px 1px 2px rgba(0, 0, 0, 0.3));\n",
              "      fill: #FFFFFF;\n",
              "    }\n",
              "  </style>\n",
              "\n",
              "    <script>\n",
              "      const buttonEl =\n",
              "        document.querySelector('#df-cc0c95a4-b59e-43b0-9b80-4376634cc3b1 button.colab-df-convert');\n",
              "      buttonEl.style.display =\n",
              "        google.colab.kernel.accessAllowed ? 'block' : 'none';\n",
              "\n",
              "      async function convertToInteractive(key) {\n",
              "        const element = document.querySelector('#df-cc0c95a4-b59e-43b0-9b80-4376634cc3b1');\n",
              "        const dataTable =\n",
              "          await google.colab.kernel.invokeFunction('convertToInteractive',\n",
              "                                                    [key], {});\n",
              "        if (!dataTable) return;\n",
              "\n",
              "        const docLinkHtml = 'Like what you see? Visit the ' +\n",
              "          '<a target=\"_blank\" href=https://colab.research.google.com/notebooks/data_table.ipynb>data table notebook</a>'\n",
              "          + ' to learn more about interactive tables.';\n",
              "        element.innerHTML = '';\n",
              "        dataTable['output_type'] = 'display_data';\n",
              "        await google.colab.output.renderOutput(dataTable, element);\n",
              "        const docLink = document.createElement('div');\n",
              "        docLink.innerHTML = docLinkHtml;\n",
              "        element.appendChild(docLink);\n",
              "      }\n",
              "    </script>\n",
              "  </div>\n",
              "\n",
              "\n",
              "<div id=\"df-ce8435fd-d148-479b-97b4-bc38b1b7333e\">\n",
              "  <button class=\"colab-df-quickchart\" onclick=\"quickchart('df-ce8435fd-d148-479b-97b4-bc38b1b7333e')\"\n",
              "            title=\"Suggest charts\"\n",
              "            style=\"display:none;\">\n",
              "\n",
              "<svg xmlns=\"http://www.w3.org/2000/svg\" height=\"24px\"viewBox=\"0 0 24 24\"\n",
              "     width=\"24px\">\n",
              "    <g>\n",
              "        <path d=\"M19 3H5c-1.1 0-2 .9-2 2v14c0 1.1.9 2 2 2h14c1.1 0 2-.9 2-2V5c0-1.1-.9-2-2-2zM9 17H7v-7h2v7zm4 0h-2V7h2v10zm4 0h-2v-4h2v4z\"/>\n",
              "    </g>\n",
              "</svg>\n",
              "  </button>\n",
              "\n",
              "<style>\n",
              "  .colab-df-quickchart {\n",
              "      --bg-color: #E8F0FE;\n",
              "      --fill-color: #1967D2;\n",
              "      --hover-bg-color: #E2EBFA;\n",
              "      --hover-fill-color: #174EA6;\n",
              "      --disabled-fill-color: #AAA;\n",
              "      --disabled-bg-color: #DDD;\n",
              "  }\n",
              "\n",
              "  [theme=dark] .colab-df-quickchart {\n",
              "      --bg-color: #3B4455;\n",
              "      --fill-color: #D2E3FC;\n",
              "      --hover-bg-color: #434B5C;\n",
              "      --hover-fill-color: #FFFFFF;\n",
              "      --disabled-bg-color: #3B4455;\n",
              "      --disabled-fill-color: #666;\n",
              "  }\n",
              "\n",
              "  .colab-df-quickchart {\n",
              "    background-color: var(--bg-color);\n",
              "    border: none;\n",
              "    border-radius: 50%;\n",
              "    cursor: pointer;\n",
              "    display: none;\n",
              "    fill: var(--fill-color);\n",
              "    height: 32px;\n",
              "    padding: 0;\n",
              "    width: 32px;\n",
              "  }\n",
              "\n",
              "  .colab-df-quickchart:hover {\n",
              "    background-color: var(--hover-bg-color);\n",
              "    box-shadow: 0 1px 2px rgba(60, 64, 67, 0.3), 0 1px 3px 1px rgba(60, 64, 67, 0.15);\n",
              "    fill: var(--button-hover-fill-color);\n",
              "  }\n",
              "\n",
              "  .colab-df-quickchart-complete:disabled,\n",
              "  .colab-df-quickchart-complete:disabled:hover {\n",
              "    background-color: var(--disabled-bg-color);\n",
              "    fill: var(--disabled-fill-color);\n",
              "    box-shadow: none;\n",
              "  }\n",
              "\n",
              "  .colab-df-spinner {\n",
              "    border: 2px solid var(--fill-color);\n",
              "    border-color: transparent;\n",
              "    border-bottom-color: var(--fill-color);\n",
              "    animation:\n",
              "      spin 1s steps(1) infinite;\n",
              "  }\n",
              "\n",
              "  @keyframes spin {\n",
              "    0% {\n",
              "      border-color: transparent;\n",
              "      border-bottom-color: var(--fill-color);\n",
              "      border-left-color: var(--fill-color);\n",
              "    }\n",
              "    20% {\n",
              "      border-color: transparent;\n",
              "      border-left-color: var(--fill-color);\n",
              "      border-top-color: var(--fill-color);\n",
              "    }\n",
              "    30% {\n",
              "      border-color: transparent;\n",
              "      border-left-color: var(--fill-color);\n",
              "      border-top-color: var(--fill-color);\n",
              "      border-right-color: var(--fill-color);\n",
              "    }\n",
              "    40% {\n",
              "      border-color: transparent;\n",
              "      border-right-color: var(--fill-color);\n",
              "      border-top-color: var(--fill-color);\n",
              "    }\n",
              "    60% {\n",
              "      border-color: transparent;\n",
              "      border-right-color: var(--fill-color);\n",
              "    }\n",
              "    80% {\n",
              "      border-color: transparent;\n",
              "      border-right-color: var(--fill-color);\n",
              "      border-bottom-color: var(--fill-color);\n",
              "    }\n",
              "    90% {\n",
              "      border-color: transparent;\n",
              "      border-bottom-color: var(--fill-color);\n",
              "    }\n",
              "  }\n",
              "</style>\n",
              "\n",
              "  <script>\n",
              "    async function quickchart(key) {\n",
              "      const quickchartButtonEl =\n",
              "        document.querySelector('#' + key + ' button');\n",
              "      quickchartButtonEl.disabled = true;  // To prevent multiple clicks.\n",
              "      quickchartButtonEl.classList.add('colab-df-spinner');\n",
              "      try {\n",
              "        const charts = await google.colab.kernel.invokeFunction(\n",
              "            'suggestCharts', [key], {});\n",
              "      } catch (error) {\n",
              "        console.error('Error during call to suggestCharts:', error);\n",
              "      }\n",
              "      quickchartButtonEl.classList.remove('colab-df-spinner');\n",
              "      quickchartButtonEl.classList.add('colab-df-quickchart-complete');\n",
              "    }\n",
              "    (() => {\n",
              "      let quickchartButtonEl =\n",
              "        document.querySelector('#df-ce8435fd-d148-479b-97b4-bc38b1b7333e button');\n",
              "      quickchartButtonEl.style.display =\n",
              "        google.colab.kernel.accessAllowed ? 'block' : 'none';\n",
              "    })();\n",
              "  </script>\n",
              "</div>\n",
              "\n",
              "    </div>\n",
              "  </div>\n"
            ],
            "application/vnd.google.colaboratory.intrinsic+json": {
              "type": "dataframe",
              "variable_name": "data",
              "summary": "{\n  \"name\": \"data\",\n  \"rows\": 50000,\n  \"fields\": [\n    {\n      \"column\": \"ViewCount\",\n      \"properties\": {\n        \"dtype\": \"number\",\n        \"std\": 5967,\n        \"min\": 3,\n        \"max\": 434533,\n        \"num_unique_values\": 6113,\n        \"samples\": [\n          7365,\n          335,\n          1281\n        ],\n        \"semantic_type\": \"\",\n        \"description\": \"\"\n      }\n    },\n    {\n      \"column\": \"Tags\",\n      \"properties\": {\n        \"dtype\": \"string\",\n        \"num_unique_values\": 32942,\n        \"samples\": [\n          \"<quantum-field-theory><quantum-computer><computational-physics><computer>\",\n          \"<quantum-mechanics><states-of-matter>\",\n          \"<newtonian-mechanics><material-science><stress-strain><volume>\"\n        ],\n        \"semantic_type\": \"\",\n        \"description\": \"\"\n      }\n    },\n    {\n      \"column\": \"Title\",\n      \"properties\": {\n        \"dtype\": \"string\",\n        \"num_unique_values\": 49994,\n        \"samples\": [\n          \"how can u control the speed of light?\",\n          \"Rough diffusion rate of sugar water through a larger volume of water\",\n          \"Where can I find beginner's information about quantum mechanics?\"\n        ],\n        \"semantic_type\": \"\",\n        \"description\": \"\"\n      }\n    },\n    {\n      \"column\": \"Body\",\n      \"properties\": {\n        \"dtype\": \"string\",\n        \"num_unique_values\": 50000,\n        \"samples\": [\n          \"If we come from the physics side, the hamiltonian formalism usually is introduced via generalized coordinates (which are just a collection of numbers stuffed into a vector ($\\\\vec{q}$), and the lagrangian formalism. Legendre transform of the Lagrangian yields the hamiltonian, and so on.\\n\\nIn this formulation, the canonical equations of motion\\n\\\\begin{align}\\n\\\\dot{\\\\vec{q}} = \\\\frac{\\\\partial H}{\\\\partial p} \\\\\\\\\\n\\\\dot{\\\\vec{p}} = -\\\\frac{\\\\partial H}{\\\\partial q}\\n\\\\end{align}\\nfollow from an action principle. The action \\n\\\\begin{align}\\n\\\\int dt~\\\\left( \\\\dot{\\\\vec{q}} \\\\cdot\\\\vec{p} - H(\\\\vec{q}, \\\\vec{p}, t)\\\\right)\\n\\\\end{align}\\nis stationary with respect to variations with $\\\\vec{q}(t_2)$ and $\\\\vec{q}(t_1)$ fixed. \\nNow I've read up more mathematical formulations, that employ the concept of manifolds. In some, the phase space is introduced as cotant space over the configuration space, which means that $\\\\vec{q}$ now is a set of coordinates for a point in the configuration space Q (which is a manifold), $\\\\dot{\\\\vec{q}}$ is an element of the tangential space $T_{\\\\vec{q}}Q$, and $\\\\vec{p}$ is an element of the dual space to that tangent space. \\nUp to here it's no problem to write down the above mentioned action in the same manner. $\\\\dot{\\\\vec{q}}\\\\vec{p}$ now isn't anymore a scalar product, but it's instead the application of $\\\\vec{p}$ to \\\\dot{\\\\vec{q}}, which maps to a real number (and which perfectly makes sense). \\n\\nMy question is now: Can we keep up with the action formulation for cases in which the phase space (possibly) isn't a cotangent space anymore?\\nFor example, if it's just an even-dimensional space, equipped with a symplectic form, can we somehow still write down an action, that makes sense from a mathematical point of view?\\n\\nOr is my question not necessary, because every notion of phase space that appears in physics makes use of the phase space as a cotangent space?\\n\",\n          \"Not much more to add.   By shrink, I mean become more dense at the same pressure and temperature.\\n\\nAnd I don't mean vol(A+B) &lt; vol(A) + vol(B).   I'm sure this is possible.   \\n\\nIs it possible to get vol(A+B) &lt; vol(A)?\\n\",\n          \"I've been told that physicists and computer scientists are working on computers that could use quantum physics to increase significantly computation capabilities and break any cipher so cryptography becomes meaningless.\\n\\nIs it true?\\n\"\n        ],\n        \"semantic_type\": \"\",\n        \"description\": \"\"\n      }\n    },\n    {\n      \"column\": \"CommentCount\",\n      \"properties\": {\n        \"dtype\": \"number\",\n        \"std\": 2,\n        \"min\": 0,\n        \"max\": 34,\n        \"num_unique_values\": 34,\n        \"samples\": [\n          17,\n          24,\n          28\n        ],\n        \"semantic_type\": \"\",\n        \"description\": \"\"\n      }\n    },\n    {\n      \"column\": \"FavoriteCount\",\n      \"properties\": {\n        \"dtype\": \"number\",\n        \"std\": 4.89491457406651,\n        \"min\": 0.0,\n        \"max\": 162.0,\n        \"num_unique_values\": 76,\n        \"samples\": [\n          22.0,\n          29.0,\n          12.0\n        ],\n        \"semantic_type\": \"\",\n        \"description\": \"\"\n      }\n    },\n    {\n      \"column\": \"question_quality\",\n      \"properties\": {\n        \"dtype\": \"category\",\n        \"num_unique_values\": 4,\n        \"samples\": [\n          \"good quality\",\n          \"unknown\",\n          \"low quality\"\n        ],\n        \"semantic_type\": \"\",\n        \"description\": \"\"\n      }\n    },\n    {\n      \"column\": \"Title_Text_Length\",\n      \"properties\": {\n        \"dtype\": \"number\",\n        \"std\": 24,\n        \"min\": 15,\n        \"max\": 163,\n        \"num_unique_values\": 141,\n        \"samples\": [\n          15,\n          123,\n          29\n        ],\n        \"semantic_type\": \"\",\n        \"description\": \"\"\n      }\n    },\n    {\n      \"column\": \"Body_Text_Length\",\n      \"properties\": {\n        \"dtype\": \"number\",\n        \"std\": 806,\n        \"min\": 32,\n        \"max\": 23809,\n        \"num_unique_values\": 3747,\n        \"samples\": [\n          3430,\n          1310,\n          1414\n        ],\n        \"semantic_type\": \"\",\n        \"description\": \"\"\n      }\n    },\n    {\n      \"column\": \"Body_Sentences_Count\",\n      \"properties\": {\n        \"dtype\": \"number\",\n        \"std\": 8,\n        \"min\": 1,\n        \"max\": 250,\n        \"num_unique_values\": 104,\n        \"samples\": [\n          23,\n          72,\n          48\n        ],\n        \"semantic_type\": \"\",\n        \"description\": \"\"\n      }\n    }\n  ]\n}"
            }
          },
          "metadata": {},
          "execution_count": 132
        }
      ]
    },
    {
      "cell_type": "code",
      "source": [
        "df = data.copy()"
      ],
      "metadata": {
        "id": "IAvia1Ym6E3d"
      },
      "execution_count": 133,
      "outputs": []
    },
    {
      "cell_type": "markdown",
      "source": [
        "We are dropping the Title and Body columns, as well as the Tags column. Upon evaluation, we found that the Tags column increases complexity without contributing to improved accuracy."
      ],
      "metadata": {
        "id": "P9QgvqkO8S9l"
      }
    },
    {
      "cell_type": "code",
      "source": [
        "col = ['Title', 'Body', 'Tags']\n",
        "data.drop(col, inplace=True, axis=1)"
      ],
      "metadata": {
        "id": "gPBvFBY_8Cnb"
      },
      "execution_count": 134,
      "outputs": []
    },
    {
      "cell_type": "code",
      "source": [
        "data.isnull().sum()"
      ],
      "metadata": {
        "colab": {
          "base_uri": "https://localhost:8080/",
          "height": 323
        },
        "id": "HZ2CEzzQ9KH4",
        "outputId": "6dab0edb-230f-4829-c01a-707c7e3a6030"
      },
      "execution_count": 135,
      "outputs": [
        {
          "output_type": "execute_result",
          "data": {
            "text/plain": [
              "ViewCount                   0\n",
              "CommentCount                0\n",
              "FavoriteCount           29054\n",
              "question_quality            0\n",
              "Title_Text_Length           0\n",
              "Body_Text_Length            0\n",
              "Body_Sentences_Count        0\n",
              "dtype: int64"
            ],
            "text/html": [
              "<div>\n",
              "<style scoped>\n",
              "    .dataframe tbody tr th:only-of-type {\n",
              "        vertical-align: middle;\n",
              "    }\n",
              "\n",
              "    .dataframe tbody tr th {\n",
              "        vertical-align: top;\n",
              "    }\n",
              "\n",
              "    .dataframe thead th {\n",
              "        text-align: right;\n",
              "    }\n",
              "</style>\n",
              "<table border=\"1\" class=\"dataframe\">\n",
              "  <thead>\n",
              "    <tr style=\"text-align: right;\">\n",
              "      <th></th>\n",
              "      <th>0</th>\n",
              "    </tr>\n",
              "  </thead>\n",
              "  <tbody>\n",
              "    <tr>\n",
              "      <th>ViewCount</th>\n",
              "      <td>0</td>\n",
              "    </tr>\n",
              "    <tr>\n",
              "      <th>CommentCount</th>\n",
              "      <td>0</td>\n",
              "    </tr>\n",
              "    <tr>\n",
              "      <th>FavoriteCount</th>\n",
              "      <td>29054</td>\n",
              "    </tr>\n",
              "    <tr>\n",
              "      <th>question_quality</th>\n",
              "      <td>0</td>\n",
              "    </tr>\n",
              "    <tr>\n",
              "      <th>Title_Text_Length</th>\n",
              "      <td>0</td>\n",
              "    </tr>\n",
              "    <tr>\n",
              "      <th>Body_Text_Length</th>\n",
              "      <td>0</td>\n",
              "    </tr>\n",
              "    <tr>\n",
              "      <th>Body_Sentences_Count</th>\n",
              "      <td>0</td>\n",
              "    </tr>\n",
              "  </tbody>\n",
              "</table>\n",
              "</div><br><label><b>dtype:</b> int64</label>"
            ]
          },
          "metadata": {},
          "execution_count": 135
        }
      ]
    },
    {
      "cell_type": "markdown",
      "source": [
        "Since more than 50% of the data in the FavoriteCount column is null, we have decided to drop this column."
      ],
      "metadata": {
        "id": "FEZ3Vjrp9fgX"
      }
    },
    {
      "cell_type": "code",
      "source": [
        "data.shape"
      ],
      "metadata": {
        "colab": {
          "base_uri": "https://localhost:8080/"
        },
        "id": "ce7s92dZ9Nnk",
        "outputId": "e86ac9cf-174e-451c-851c-3746117ca305"
      },
      "execution_count": 136,
      "outputs": [
        {
          "output_type": "execute_result",
          "data": {
            "text/plain": [
              "(50000, 7)"
            ]
          },
          "metadata": {},
          "execution_count": 136
        }
      ]
    },
    {
      "cell_type": "code",
      "source": [
        "data.drop('FavoriteCount', inplace=True, axis=1)\n",
        "data.shape"
      ],
      "metadata": {
        "colab": {
          "base_uri": "https://localhost:8080/"
        },
        "id": "Ydc4wZvu9s_M",
        "outputId": "d3f63175-38f5-49f9-95a6-57bd3ac5b98a"
      },
      "execution_count": 137,
      "outputs": [
        {
          "output_type": "execute_result",
          "data": {
            "text/plain": [
              "(50000, 6)"
            ]
          },
          "metadata": {},
          "execution_count": 137
        }
      ]
    },
    {
      "cell_type": "markdown",
      "source": [
        "**Check Duplicates**"
      ],
      "metadata": {
        "id": "PnsOgcjL-Aa0"
      }
    },
    {
      "cell_type": "code",
      "source": [
        "data.duplicated().sum()"
      ],
      "metadata": {
        "colab": {
          "base_uri": "https://localhost:8080/"
        },
        "id": "ns8sWW13930A",
        "outputId": "2d88384a-77a9-407f-f97c-eb73afb3f3ca"
      },
      "execution_count": 138,
      "outputs": [
        {
          "output_type": "execute_result",
          "data": {
            "text/plain": [
              "0"
            ]
          },
          "metadata": {},
          "execution_count": 138
        }
      ]
    },
    {
      "cell_type": "code",
      "source": [
        "data.describe()"
      ],
      "metadata": {
        "colab": {
          "base_uri": "https://localhost:8080/",
          "height": 320
        },
        "id": "08UQ1eKD-LZ5",
        "outputId": "9982bdaf-3e03-4d6c-f821-143428458b7b"
      },
      "execution_count": 139,
      "outputs": [
        {
          "output_type": "execute_result",
          "data": {
            "text/plain": [
              "           ViewCount  CommentCount  Title_Text_Length  Body_Text_Length  \\\n",
              "count   50000.000000  50000.000000       50000.000000      50000.000000   \n",
              "mean     1328.180280      2.389200          57.130680        873.786940   \n",
              "std      5967.521876      2.876333          24.526157        806.070576   \n",
              "min         3.000000      0.000000          15.000000         32.000000   \n",
              "25%        83.000000      0.000000          39.000000        372.000000   \n",
              "50%       219.000000      2.000000          53.000000        650.000000   \n",
              "75%       731.000000      3.000000          71.000000       1109.000000   \n",
              "max    434533.000000     34.000000         163.000000      23809.000000   \n",
              "\n",
              "       Body_Sentences_Count  \n",
              "count           50000.00000  \n",
              "mean                8.21548  \n",
              "std                 8.07531  \n",
              "min                 1.00000  \n",
              "25%                 3.00000  \n",
              "50%                 6.00000  \n",
              "75%                11.00000  \n",
              "max               250.00000  "
            ],
            "text/html": [
              "\n",
              "  <div id=\"df-75e31c62-c46b-4b4a-9e3a-63befb7558ca\" class=\"colab-df-container\">\n",
              "    <div>\n",
              "<style scoped>\n",
              "    .dataframe tbody tr th:only-of-type {\n",
              "        vertical-align: middle;\n",
              "    }\n",
              "\n",
              "    .dataframe tbody tr th {\n",
              "        vertical-align: top;\n",
              "    }\n",
              "\n",
              "    .dataframe thead th {\n",
              "        text-align: right;\n",
              "    }\n",
              "</style>\n",
              "<table border=\"1\" class=\"dataframe\">\n",
              "  <thead>\n",
              "    <tr style=\"text-align: right;\">\n",
              "      <th></th>\n",
              "      <th>ViewCount</th>\n",
              "      <th>CommentCount</th>\n",
              "      <th>Title_Text_Length</th>\n",
              "      <th>Body_Text_Length</th>\n",
              "      <th>Body_Sentences_Count</th>\n",
              "    </tr>\n",
              "  </thead>\n",
              "  <tbody>\n",
              "    <tr>\n",
              "      <th>count</th>\n",
              "      <td>50000.000000</td>\n",
              "      <td>50000.000000</td>\n",
              "      <td>50000.000000</td>\n",
              "      <td>50000.000000</td>\n",
              "      <td>50000.00000</td>\n",
              "    </tr>\n",
              "    <tr>\n",
              "      <th>mean</th>\n",
              "      <td>1328.180280</td>\n",
              "      <td>2.389200</td>\n",
              "      <td>57.130680</td>\n",
              "      <td>873.786940</td>\n",
              "      <td>8.21548</td>\n",
              "    </tr>\n",
              "    <tr>\n",
              "      <th>std</th>\n",
              "      <td>5967.521876</td>\n",
              "      <td>2.876333</td>\n",
              "      <td>24.526157</td>\n",
              "      <td>806.070576</td>\n",
              "      <td>8.07531</td>\n",
              "    </tr>\n",
              "    <tr>\n",
              "      <th>min</th>\n",
              "      <td>3.000000</td>\n",
              "      <td>0.000000</td>\n",
              "      <td>15.000000</td>\n",
              "      <td>32.000000</td>\n",
              "      <td>1.00000</td>\n",
              "    </tr>\n",
              "    <tr>\n",
              "      <th>25%</th>\n",
              "      <td>83.000000</td>\n",
              "      <td>0.000000</td>\n",
              "      <td>39.000000</td>\n",
              "      <td>372.000000</td>\n",
              "      <td>3.00000</td>\n",
              "    </tr>\n",
              "    <tr>\n",
              "      <th>50%</th>\n",
              "      <td>219.000000</td>\n",
              "      <td>2.000000</td>\n",
              "      <td>53.000000</td>\n",
              "      <td>650.000000</td>\n",
              "      <td>6.00000</td>\n",
              "    </tr>\n",
              "    <tr>\n",
              "      <th>75%</th>\n",
              "      <td>731.000000</td>\n",
              "      <td>3.000000</td>\n",
              "      <td>71.000000</td>\n",
              "      <td>1109.000000</td>\n",
              "      <td>11.00000</td>\n",
              "    </tr>\n",
              "    <tr>\n",
              "      <th>max</th>\n",
              "      <td>434533.000000</td>\n",
              "      <td>34.000000</td>\n",
              "      <td>163.000000</td>\n",
              "      <td>23809.000000</td>\n",
              "      <td>250.00000</td>\n",
              "    </tr>\n",
              "  </tbody>\n",
              "</table>\n",
              "</div>\n",
              "    <div class=\"colab-df-buttons\">\n",
              "\n",
              "  <div class=\"colab-df-container\">\n",
              "    <button class=\"colab-df-convert\" onclick=\"convertToInteractive('df-75e31c62-c46b-4b4a-9e3a-63befb7558ca')\"\n",
              "            title=\"Convert this dataframe to an interactive table.\"\n",
              "            style=\"display:none;\">\n",
              "\n",
              "  <svg xmlns=\"http://www.w3.org/2000/svg\" height=\"24px\" viewBox=\"0 -960 960 960\">\n",
              "    <path d=\"M120-120v-720h720v720H120Zm60-500h600v-160H180v160Zm220 220h160v-160H400v160Zm0 220h160v-160H400v160ZM180-400h160v-160H180v160Zm440 0h160v-160H620v160ZM180-180h160v-160H180v160Zm440 0h160v-160H620v160Z\"/>\n",
              "  </svg>\n",
              "    </button>\n",
              "\n",
              "  <style>\n",
              "    .colab-df-container {\n",
              "      display:flex;\n",
              "      gap: 12px;\n",
              "    }\n",
              "\n",
              "    .colab-df-convert {\n",
              "      background-color: #E8F0FE;\n",
              "      border: none;\n",
              "      border-radius: 50%;\n",
              "      cursor: pointer;\n",
              "      display: none;\n",
              "      fill: #1967D2;\n",
              "      height: 32px;\n",
              "      padding: 0 0 0 0;\n",
              "      width: 32px;\n",
              "    }\n",
              "\n",
              "    .colab-df-convert:hover {\n",
              "      background-color: #E2EBFA;\n",
              "      box-shadow: 0px 1px 2px rgba(60, 64, 67, 0.3), 0px 1px 3px 1px rgba(60, 64, 67, 0.15);\n",
              "      fill: #174EA6;\n",
              "    }\n",
              "\n",
              "    .colab-df-buttons div {\n",
              "      margin-bottom: 4px;\n",
              "    }\n",
              "\n",
              "    [theme=dark] .colab-df-convert {\n",
              "      background-color: #3B4455;\n",
              "      fill: #D2E3FC;\n",
              "    }\n",
              "\n",
              "    [theme=dark] .colab-df-convert:hover {\n",
              "      background-color: #434B5C;\n",
              "      box-shadow: 0px 1px 3px 1px rgba(0, 0, 0, 0.15);\n",
              "      filter: drop-shadow(0px 1px 2px rgba(0, 0, 0, 0.3));\n",
              "      fill: #FFFFFF;\n",
              "    }\n",
              "  </style>\n",
              "\n",
              "    <script>\n",
              "      const buttonEl =\n",
              "        document.querySelector('#df-75e31c62-c46b-4b4a-9e3a-63befb7558ca button.colab-df-convert');\n",
              "      buttonEl.style.display =\n",
              "        google.colab.kernel.accessAllowed ? 'block' : 'none';\n",
              "\n",
              "      async function convertToInteractive(key) {\n",
              "        const element = document.querySelector('#df-75e31c62-c46b-4b4a-9e3a-63befb7558ca');\n",
              "        const dataTable =\n",
              "          await google.colab.kernel.invokeFunction('convertToInteractive',\n",
              "                                                    [key], {});\n",
              "        if (!dataTable) return;\n",
              "\n",
              "        const docLinkHtml = 'Like what you see? Visit the ' +\n",
              "          '<a target=\"_blank\" href=https://colab.research.google.com/notebooks/data_table.ipynb>data table notebook</a>'\n",
              "          + ' to learn more about interactive tables.';\n",
              "        element.innerHTML = '';\n",
              "        dataTable['output_type'] = 'display_data';\n",
              "        await google.colab.output.renderOutput(dataTable, element);\n",
              "        const docLink = document.createElement('div');\n",
              "        docLink.innerHTML = docLinkHtml;\n",
              "        element.appendChild(docLink);\n",
              "      }\n",
              "    </script>\n",
              "  </div>\n",
              "\n",
              "\n",
              "<div id=\"df-101e0313-6ed5-478e-b46e-d152ca83a766\">\n",
              "  <button class=\"colab-df-quickchart\" onclick=\"quickchart('df-101e0313-6ed5-478e-b46e-d152ca83a766')\"\n",
              "            title=\"Suggest charts\"\n",
              "            style=\"display:none;\">\n",
              "\n",
              "<svg xmlns=\"http://www.w3.org/2000/svg\" height=\"24px\"viewBox=\"0 0 24 24\"\n",
              "     width=\"24px\">\n",
              "    <g>\n",
              "        <path d=\"M19 3H5c-1.1 0-2 .9-2 2v14c0 1.1.9 2 2 2h14c1.1 0 2-.9 2-2V5c0-1.1-.9-2-2-2zM9 17H7v-7h2v7zm4 0h-2V7h2v10zm4 0h-2v-4h2v4z\"/>\n",
              "    </g>\n",
              "</svg>\n",
              "  </button>\n",
              "\n",
              "<style>\n",
              "  .colab-df-quickchart {\n",
              "      --bg-color: #E8F0FE;\n",
              "      --fill-color: #1967D2;\n",
              "      --hover-bg-color: #E2EBFA;\n",
              "      --hover-fill-color: #174EA6;\n",
              "      --disabled-fill-color: #AAA;\n",
              "      --disabled-bg-color: #DDD;\n",
              "  }\n",
              "\n",
              "  [theme=dark] .colab-df-quickchart {\n",
              "      --bg-color: #3B4455;\n",
              "      --fill-color: #D2E3FC;\n",
              "      --hover-bg-color: #434B5C;\n",
              "      --hover-fill-color: #FFFFFF;\n",
              "      --disabled-bg-color: #3B4455;\n",
              "      --disabled-fill-color: #666;\n",
              "  }\n",
              "\n",
              "  .colab-df-quickchart {\n",
              "    background-color: var(--bg-color);\n",
              "    border: none;\n",
              "    border-radius: 50%;\n",
              "    cursor: pointer;\n",
              "    display: none;\n",
              "    fill: var(--fill-color);\n",
              "    height: 32px;\n",
              "    padding: 0;\n",
              "    width: 32px;\n",
              "  }\n",
              "\n",
              "  .colab-df-quickchart:hover {\n",
              "    background-color: var(--hover-bg-color);\n",
              "    box-shadow: 0 1px 2px rgba(60, 64, 67, 0.3), 0 1px 3px 1px rgba(60, 64, 67, 0.15);\n",
              "    fill: var(--button-hover-fill-color);\n",
              "  }\n",
              "\n",
              "  .colab-df-quickchart-complete:disabled,\n",
              "  .colab-df-quickchart-complete:disabled:hover {\n",
              "    background-color: var(--disabled-bg-color);\n",
              "    fill: var(--disabled-fill-color);\n",
              "    box-shadow: none;\n",
              "  }\n",
              "\n",
              "  .colab-df-spinner {\n",
              "    border: 2px solid var(--fill-color);\n",
              "    border-color: transparent;\n",
              "    border-bottom-color: var(--fill-color);\n",
              "    animation:\n",
              "      spin 1s steps(1) infinite;\n",
              "  }\n",
              "\n",
              "  @keyframes spin {\n",
              "    0% {\n",
              "      border-color: transparent;\n",
              "      border-bottom-color: var(--fill-color);\n",
              "      border-left-color: var(--fill-color);\n",
              "    }\n",
              "    20% {\n",
              "      border-color: transparent;\n",
              "      border-left-color: var(--fill-color);\n",
              "      border-top-color: var(--fill-color);\n",
              "    }\n",
              "    30% {\n",
              "      border-color: transparent;\n",
              "      border-left-color: var(--fill-color);\n",
              "      border-top-color: var(--fill-color);\n",
              "      border-right-color: var(--fill-color);\n",
              "    }\n",
              "    40% {\n",
              "      border-color: transparent;\n",
              "      border-right-color: var(--fill-color);\n",
              "      border-top-color: var(--fill-color);\n",
              "    }\n",
              "    60% {\n",
              "      border-color: transparent;\n",
              "      border-right-color: var(--fill-color);\n",
              "    }\n",
              "    80% {\n",
              "      border-color: transparent;\n",
              "      border-right-color: var(--fill-color);\n",
              "      border-bottom-color: var(--fill-color);\n",
              "    }\n",
              "    90% {\n",
              "      border-color: transparent;\n",
              "      border-bottom-color: var(--fill-color);\n",
              "    }\n",
              "  }\n",
              "</style>\n",
              "\n",
              "  <script>\n",
              "    async function quickchart(key) {\n",
              "      const quickchartButtonEl =\n",
              "        document.querySelector('#' + key + ' button');\n",
              "      quickchartButtonEl.disabled = true;  // To prevent multiple clicks.\n",
              "      quickchartButtonEl.classList.add('colab-df-spinner');\n",
              "      try {\n",
              "        const charts = await google.colab.kernel.invokeFunction(\n",
              "            'suggestCharts', [key], {});\n",
              "      } catch (error) {\n",
              "        console.error('Error during call to suggestCharts:', error);\n",
              "      }\n",
              "      quickchartButtonEl.classList.remove('colab-df-spinner');\n",
              "      quickchartButtonEl.classList.add('colab-df-quickchart-complete');\n",
              "    }\n",
              "    (() => {\n",
              "      let quickchartButtonEl =\n",
              "        document.querySelector('#df-101e0313-6ed5-478e-b46e-d152ca83a766 button');\n",
              "      quickchartButtonEl.style.display =\n",
              "        google.colab.kernel.accessAllowed ? 'block' : 'none';\n",
              "    })();\n",
              "  </script>\n",
              "</div>\n",
              "\n",
              "    </div>\n",
              "  </div>\n"
            ],
            "application/vnd.google.colaboratory.intrinsic+json": {
              "type": "dataframe",
              "summary": "{\n  \"name\": \"data\",\n  \"rows\": 8,\n  \"fields\": [\n    {\n      \"column\": \"ViewCount\",\n      \"properties\": {\n        \"dtype\": \"number\",\n        \"std\": 151653.94858985426,\n        \"min\": 3.0,\n        \"max\": 434533.0,\n        \"num_unique_values\": 8,\n        \"samples\": [\n          1328.18028,\n          219.0,\n          50000.0\n        ],\n        \"semantic_type\": \"\",\n        \"description\": \"\"\n      }\n    },\n    {\n      \"column\": \"CommentCount\",\n      \"properties\": {\n        \"dtype\": \"number\",\n        \"std\": 17675.437432030052,\n        \"min\": 0.0,\n        \"max\": 50000.0,\n        \"num_unique_values\": 7,\n        \"samples\": [\n          50000.0,\n          2.3892,\n          3.0\n        ],\n        \"semantic_type\": \"\",\n        \"description\": \"\"\n      }\n    },\n    {\n      \"column\": \"Title_Text_Length\",\n      \"properties\": {\n        \"dtype\": \"number\",\n        \"std\": 17656.380838262474,\n        \"min\": 15.0,\n        \"max\": 50000.0,\n        \"num_unique_values\": 8,\n        \"samples\": [\n          57.13068,\n          53.0,\n          50000.0\n        ],\n        \"semantic_type\": \"\",\n        \"description\": \"\"\n      }\n    },\n    {\n      \"column\": \"Body_Text_Length\",\n      \"properties\": {\n        \"dtype\": \"number\",\n        \"std\": 18190.842089301415,\n        \"min\": 32.0,\n        \"max\": 50000.0,\n        \"num_unique_values\": 8,\n        \"samples\": [\n          873.78694,\n          650.0,\n          50000.0\n        ],\n        \"semantic_type\": \"\",\n        \"description\": \"\"\n      }\n    },\n    {\n      \"column\": \"Body_Sentences_Count\",\n      \"properties\": {\n        \"dtype\": \"number\",\n        \"std\": 17663.365428516667,\n        \"min\": 1.0,\n        \"max\": 50000.0,\n        \"num_unique_values\": 8,\n        \"samples\": [\n          8.21548,\n          6.0,\n          50000.0\n        ],\n        \"semantic_type\": \"\",\n        \"description\": \"\"\n      }\n    }\n  ]\n}"
            }
          },
          "metadata": {},
          "execution_count": 139
        }
      ]
    },
    {
      "cell_type": "markdown",
      "source": [
        "Although outliers are present in the data, we are not removing them in this case. These outliers could represent high-quality questions with longer, well-explained text or, conversely, low-quality questions. Removing them might lead to the loss of valuable insights."
      ],
      "metadata": {
        "id": "kE-LxaiK-Yd9"
      }
    },
    {
      "cell_type": "markdown",
      "source": [
        "check data type of dataset"
      ],
      "metadata": {
        "id": "lgAe3Bz1-4UB"
      }
    },
    {
      "cell_type": "code",
      "source": [
        "data.dtypes"
      ],
      "metadata": {
        "colab": {
          "base_uri": "https://localhost:8080/",
          "height": 292
        },
        "id": "VVzZWUMu-OfY",
        "outputId": "5ed694d3-b7e1-45cd-deaa-215468b25cc9"
      },
      "execution_count": 140,
      "outputs": [
        {
          "output_type": "execute_result",
          "data": {
            "text/plain": [
              "ViewCount                int64\n",
              "CommentCount             int64\n",
              "question_quality        object\n",
              "Title_Text_Length        int64\n",
              "Body_Text_Length         int64\n",
              "Body_Sentences_Count     int64\n",
              "dtype: object"
            ],
            "text/html": [
              "<div>\n",
              "<style scoped>\n",
              "    .dataframe tbody tr th:only-of-type {\n",
              "        vertical-align: middle;\n",
              "    }\n",
              "\n",
              "    .dataframe tbody tr th {\n",
              "        vertical-align: top;\n",
              "    }\n",
              "\n",
              "    .dataframe thead th {\n",
              "        text-align: right;\n",
              "    }\n",
              "</style>\n",
              "<table border=\"1\" class=\"dataframe\">\n",
              "  <thead>\n",
              "    <tr style=\"text-align: right;\">\n",
              "      <th></th>\n",
              "      <th>0</th>\n",
              "    </tr>\n",
              "  </thead>\n",
              "  <tbody>\n",
              "    <tr>\n",
              "      <th>ViewCount</th>\n",
              "      <td>int64</td>\n",
              "    </tr>\n",
              "    <tr>\n",
              "      <th>CommentCount</th>\n",
              "      <td>int64</td>\n",
              "    </tr>\n",
              "    <tr>\n",
              "      <th>question_quality</th>\n",
              "      <td>object</td>\n",
              "    </tr>\n",
              "    <tr>\n",
              "      <th>Title_Text_Length</th>\n",
              "      <td>int64</td>\n",
              "    </tr>\n",
              "    <tr>\n",
              "      <th>Body_Text_Length</th>\n",
              "      <td>int64</td>\n",
              "    </tr>\n",
              "    <tr>\n",
              "      <th>Body_Sentences_Count</th>\n",
              "      <td>int64</td>\n",
              "    </tr>\n",
              "  </tbody>\n",
              "</table>\n",
              "</div><br><label><b>dtype:</b> object</label>"
            ]
          },
          "metadata": {},
          "execution_count": 140
        }
      ]
    },
    {
      "cell_type": "markdown",
      "source": [
        "The data type for the question_quality column should be set to \"object,\" while all other columns should be of integer or float type."
      ],
      "metadata": {
        "id": "lNVz5wv6_Qeb"
      }
    },
    {
      "cell_type": "code",
      "source": [
        "data"
      ],
      "metadata": {
        "colab": {
          "base_uri": "https://localhost:8080/",
          "height": 444
        },
        "id": "39H2Sfyv--hw",
        "outputId": "aa0270ad-0907-47f4-eca0-72afdc1a3655"
      },
      "execution_count": 141,
      "outputs": [
        {
          "output_type": "execute_result",
          "data": {
            "text/plain": [
              "       ViewCount  CommentCount question_quality  Title_Text_Length  \\\n",
              "0            165             0      low quality                 43   \n",
              "1          15804             4     good quality                 66   \n",
              "2            965             1      low quality                 63   \n",
              "3            110             1      low quality                 82   \n",
              "4             59             2      low quality                 95   \n",
              "...          ...           ...              ...                ...   \n",
              "49995        421             4     good quality                100   \n",
              "49996        392             0      low quality                121   \n",
              "49997        279             5      low quality                 81   \n",
              "49998       3091             1     good quality                 41   \n",
              "49999         62             0      low quality                 90   \n",
              "\n",
              "       Body_Text_Length  Body_Sentences_Count  \n",
              "0                   840                     9  \n",
              "1                  2139                    12  \n",
              "2                   445                     4  \n",
              "3                  1477                    11  \n",
              "4                   628                     8  \n",
              "...                 ...                   ...  \n",
              "49995               653                     7  \n",
              "49996              1991                    17  \n",
              "49997               717                     1  \n",
              "49998               504                     3  \n",
              "49999               619                     1  \n",
              "\n",
              "[50000 rows x 6 columns]"
            ],
            "text/html": [
              "\n",
              "  <div id=\"df-c4959416-3e45-4630-99c5-fa81d57e9bdb\" class=\"colab-df-container\">\n",
              "    <div>\n",
              "<style scoped>\n",
              "    .dataframe tbody tr th:only-of-type {\n",
              "        vertical-align: middle;\n",
              "    }\n",
              "\n",
              "    .dataframe tbody tr th {\n",
              "        vertical-align: top;\n",
              "    }\n",
              "\n",
              "    .dataframe thead th {\n",
              "        text-align: right;\n",
              "    }\n",
              "</style>\n",
              "<table border=\"1\" class=\"dataframe\">\n",
              "  <thead>\n",
              "    <tr style=\"text-align: right;\">\n",
              "      <th></th>\n",
              "      <th>ViewCount</th>\n",
              "      <th>CommentCount</th>\n",
              "      <th>question_quality</th>\n",
              "      <th>Title_Text_Length</th>\n",
              "      <th>Body_Text_Length</th>\n",
              "      <th>Body_Sentences_Count</th>\n",
              "    </tr>\n",
              "  </thead>\n",
              "  <tbody>\n",
              "    <tr>\n",
              "      <th>0</th>\n",
              "      <td>165</td>\n",
              "      <td>0</td>\n",
              "      <td>low quality</td>\n",
              "      <td>43</td>\n",
              "      <td>840</td>\n",
              "      <td>9</td>\n",
              "    </tr>\n",
              "    <tr>\n",
              "      <th>1</th>\n",
              "      <td>15804</td>\n",
              "      <td>4</td>\n",
              "      <td>good quality</td>\n",
              "      <td>66</td>\n",
              "      <td>2139</td>\n",
              "      <td>12</td>\n",
              "    </tr>\n",
              "    <tr>\n",
              "      <th>2</th>\n",
              "      <td>965</td>\n",
              "      <td>1</td>\n",
              "      <td>low quality</td>\n",
              "      <td>63</td>\n",
              "      <td>445</td>\n",
              "      <td>4</td>\n",
              "    </tr>\n",
              "    <tr>\n",
              "      <th>3</th>\n",
              "      <td>110</td>\n",
              "      <td>1</td>\n",
              "      <td>low quality</td>\n",
              "      <td>82</td>\n",
              "      <td>1477</td>\n",
              "      <td>11</td>\n",
              "    </tr>\n",
              "    <tr>\n",
              "      <th>4</th>\n",
              "      <td>59</td>\n",
              "      <td>2</td>\n",
              "      <td>low quality</td>\n",
              "      <td>95</td>\n",
              "      <td>628</td>\n",
              "      <td>8</td>\n",
              "    </tr>\n",
              "    <tr>\n",
              "      <th>...</th>\n",
              "      <td>...</td>\n",
              "      <td>...</td>\n",
              "      <td>...</td>\n",
              "      <td>...</td>\n",
              "      <td>...</td>\n",
              "      <td>...</td>\n",
              "    </tr>\n",
              "    <tr>\n",
              "      <th>49995</th>\n",
              "      <td>421</td>\n",
              "      <td>4</td>\n",
              "      <td>good quality</td>\n",
              "      <td>100</td>\n",
              "      <td>653</td>\n",
              "      <td>7</td>\n",
              "    </tr>\n",
              "    <tr>\n",
              "      <th>49996</th>\n",
              "      <td>392</td>\n",
              "      <td>0</td>\n",
              "      <td>low quality</td>\n",
              "      <td>121</td>\n",
              "      <td>1991</td>\n",
              "      <td>17</td>\n",
              "    </tr>\n",
              "    <tr>\n",
              "      <th>49997</th>\n",
              "      <td>279</td>\n",
              "      <td>5</td>\n",
              "      <td>low quality</td>\n",
              "      <td>81</td>\n",
              "      <td>717</td>\n",
              "      <td>1</td>\n",
              "    </tr>\n",
              "    <tr>\n",
              "      <th>49998</th>\n",
              "      <td>3091</td>\n",
              "      <td>1</td>\n",
              "      <td>good quality</td>\n",
              "      <td>41</td>\n",
              "      <td>504</td>\n",
              "      <td>3</td>\n",
              "    </tr>\n",
              "    <tr>\n",
              "      <th>49999</th>\n",
              "      <td>62</td>\n",
              "      <td>0</td>\n",
              "      <td>low quality</td>\n",
              "      <td>90</td>\n",
              "      <td>619</td>\n",
              "      <td>1</td>\n",
              "    </tr>\n",
              "  </tbody>\n",
              "</table>\n",
              "<p>50000 rows × 6 columns</p>\n",
              "</div>\n",
              "    <div class=\"colab-df-buttons\">\n",
              "\n",
              "  <div class=\"colab-df-container\">\n",
              "    <button class=\"colab-df-convert\" onclick=\"convertToInteractive('df-c4959416-3e45-4630-99c5-fa81d57e9bdb')\"\n",
              "            title=\"Convert this dataframe to an interactive table.\"\n",
              "            style=\"display:none;\">\n",
              "\n",
              "  <svg xmlns=\"http://www.w3.org/2000/svg\" height=\"24px\" viewBox=\"0 -960 960 960\">\n",
              "    <path d=\"M120-120v-720h720v720H120Zm60-500h600v-160H180v160Zm220 220h160v-160H400v160Zm0 220h160v-160H400v160ZM180-400h160v-160H180v160Zm440 0h160v-160H620v160ZM180-180h160v-160H180v160Zm440 0h160v-160H620v160Z\"/>\n",
              "  </svg>\n",
              "    </button>\n",
              "\n",
              "  <style>\n",
              "    .colab-df-container {\n",
              "      display:flex;\n",
              "      gap: 12px;\n",
              "    }\n",
              "\n",
              "    .colab-df-convert {\n",
              "      background-color: #E8F0FE;\n",
              "      border: none;\n",
              "      border-radius: 50%;\n",
              "      cursor: pointer;\n",
              "      display: none;\n",
              "      fill: #1967D2;\n",
              "      height: 32px;\n",
              "      padding: 0 0 0 0;\n",
              "      width: 32px;\n",
              "    }\n",
              "\n",
              "    .colab-df-convert:hover {\n",
              "      background-color: #E2EBFA;\n",
              "      box-shadow: 0px 1px 2px rgba(60, 64, 67, 0.3), 0px 1px 3px 1px rgba(60, 64, 67, 0.15);\n",
              "      fill: #174EA6;\n",
              "    }\n",
              "\n",
              "    .colab-df-buttons div {\n",
              "      margin-bottom: 4px;\n",
              "    }\n",
              "\n",
              "    [theme=dark] .colab-df-convert {\n",
              "      background-color: #3B4455;\n",
              "      fill: #D2E3FC;\n",
              "    }\n",
              "\n",
              "    [theme=dark] .colab-df-convert:hover {\n",
              "      background-color: #434B5C;\n",
              "      box-shadow: 0px 1px 3px 1px rgba(0, 0, 0, 0.15);\n",
              "      filter: drop-shadow(0px 1px 2px rgba(0, 0, 0, 0.3));\n",
              "      fill: #FFFFFF;\n",
              "    }\n",
              "  </style>\n",
              "\n",
              "    <script>\n",
              "      const buttonEl =\n",
              "        document.querySelector('#df-c4959416-3e45-4630-99c5-fa81d57e9bdb button.colab-df-convert');\n",
              "      buttonEl.style.display =\n",
              "        google.colab.kernel.accessAllowed ? 'block' : 'none';\n",
              "\n",
              "      async function convertToInteractive(key) {\n",
              "        const element = document.querySelector('#df-c4959416-3e45-4630-99c5-fa81d57e9bdb');\n",
              "        const dataTable =\n",
              "          await google.colab.kernel.invokeFunction('convertToInteractive',\n",
              "                                                    [key], {});\n",
              "        if (!dataTable) return;\n",
              "\n",
              "        const docLinkHtml = 'Like what you see? Visit the ' +\n",
              "          '<a target=\"_blank\" href=https://colab.research.google.com/notebooks/data_table.ipynb>data table notebook</a>'\n",
              "          + ' to learn more about interactive tables.';\n",
              "        element.innerHTML = '';\n",
              "        dataTable['output_type'] = 'display_data';\n",
              "        await google.colab.output.renderOutput(dataTable, element);\n",
              "        const docLink = document.createElement('div');\n",
              "        docLink.innerHTML = docLinkHtml;\n",
              "        element.appendChild(docLink);\n",
              "      }\n",
              "    </script>\n",
              "  </div>\n",
              "\n",
              "\n",
              "<div id=\"df-1d638d62-16a7-4363-8770-5a2e191bf194\">\n",
              "  <button class=\"colab-df-quickchart\" onclick=\"quickchart('df-1d638d62-16a7-4363-8770-5a2e191bf194')\"\n",
              "            title=\"Suggest charts\"\n",
              "            style=\"display:none;\">\n",
              "\n",
              "<svg xmlns=\"http://www.w3.org/2000/svg\" height=\"24px\"viewBox=\"0 0 24 24\"\n",
              "     width=\"24px\">\n",
              "    <g>\n",
              "        <path d=\"M19 3H5c-1.1 0-2 .9-2 2v14c0 1.1.9 2 2 2h14c1.1 0 2-.9 2-2V5c0-1.1-.9-2-2-2zM9 17H7v-7h2v7zm4 0h-2V7h2v10zm4 0h-2v-4h2v4z\"/>\n",
              "    </g>\n",
              "</svg>\n",
              "  </button>\n",
              "\n",
              "<style>\n",
              "  .colab-df-quickchart {\n",
              "      --bg-color: #E8F0FE;\n",
              "      --fill-color: #1967D2;\n",
              "      --hover-bg-color: #E2EBFA;\n",
              "      --hover-fill-color: #174EA6;\n",
              "      --disabled-fill-color: #AAA;\n",
              "      --disabled-bg-color: #DDD;\n",
              "  }\n",
              "\n",
              "  [theme=dark] .colab-df-quickchart {\n",
              "      --bg-color: #3B4455;\n",
              "      --fill-color: #D2E3FC;\n",
              "      --hover-bg-color: #434B5C;\n",
              "      --hover-fill-color: #FFFFFF;\n",
              "      --disabled-bg-color: #3B4455;\n",
              "      --disabled-fill-color: #666;\n",
              "  }\n",
              "\n",
              "  .colab-df-quickchart {\n",
              "    background-color: var(--bg-color);\n",
              "    border: none;\n",
              "    border-radius: 50%;\n",
              "    cursor: pointer;\n",
              "    display: none;\n",
              "    fill: var(--fill-color);\n",
              "    height: 32px;\n",
              "    padding: 0;\n",
              "    width: 32px;\n",
              "  }\n",
              "\n",
              "  .colab-df-quickchart:hover {\n",
              "    background-color: var(--hover-bg-color);\n",
              "    box-shadow: 0 1px 2px rgba(60, 64, 67, 0.3), 0 1px 3px 1px rgba(60, 64, 67, 0.15);\n",
              "    fill: var(--button-hover-fill-color);\n",
              "  }\n",
              "\n",
              "  .colab-df-quickchart-complete:disabled,\n",
              "  .colab-df-quickchart-complete:disabled:hover {\n",
              "    background-color: var(--disabled-bg-color);\n",
              "    fill: var(--disabled-fill-color);\n",
              "    box-shadow: none;\n",
              "  }\n",
              "\n",
              "  .colab-df-spinner {\n",
              "    border: 2px solid var(--fill-color);\n",
              "    border-color: transparent;\n",
              "    border-bottom-color: var(--fill-color);\n",
              "    animation:\n",
              "      spin 1s steps(1) infinite;\n",
              "  }\n",
              "\n",
              "  @keyframes spin {\n",
              "    0% {\n",
              "      border-color: transparent;\n",
              "      border-bottom-color: var(--fill-color);\n",
              "      border-left-color: var(--fill-color);\n",
              "    }\n",
              "    20% {\n",
              "      border-color: transparent;\n",
              "      border-left-color: var(--fill-color);\n",
              "      border-top-color: var(--fill-color);\n",
              "    }\n",
              "    30% {\n",
              "      border-color: transparent;\n",
              "      border-left-color: var(--fill-color);\n",
              "      border-top-color: var(--fill-color);\n",
              "      border-right-color: var(--fill-color);\n",
              "    }\n",
              "    40% {\n",
              "      border-color: transparent;\n",
              "      border-right-color: var(--fill-color);\n",
              "      border-top-color: var(--fill-color);\n",
              "    }\n",
              "    60% {\n",
              "      border-color: transparent;\n",
              "      border-right-color: var(--fill-color);\n",
              "    }\n",
              "    80% {\n",
              "      border-color: transparent;\n",
              "      border-right-color: var(--fill-color);\n",
              "      border-bottom-color: var(--fill-color);\n",
              "    }\n",
              "    90% {\n",
              "      border-color: transparent;\n",
              "      border-bottom-color: var(--fill-color);\n",
              "    }\n",
              "  }\n",
              "</style>\n",
              "\n",
              "  <script>\n",
              "    async function quickchart(key) {\n",
              "      const quickchartButtonEl =\n",
              "        document.querySelector('#' + key + ' button');\n",
              "      quickchartButtonEl.disabled = true;  // To prevent multiple clicks.\n",
              "      quickchartButtonEl.classList.add('colab-df-spinner');\n",
              "      try {\n",
              "        const charts = await google.colab.kernel.invokeFunction(\n",
              "            'suggestCharts', [key], {});\n",
              "      } catch (error) {\n",
              "        console.error('Error during call to suggestCharts:', error);\n",
              "      }\n",
              "      quickchartButtonEl.classList.remove('colab-df-spinner');\n",
              "      quickchartButtonEl.classList.add('colab-df-quickchart-complete');\n",
              "    }\n",
              "    (() => {\n",
              "      let quickchartButtonEl =\n",
              "        document.querySelector('#df-1d638d62-16a7-4363-8770-5a2e191bf194 button');\n",
              "      quickchartButtonEl.style.display =\n",
              "        google.colab.kernel.accessAllowed ? 'block' : 'none';\n",
              "    })();\n",
              "  </script>\n",
              "</div>\n",
              "\n",
              "  <div id=\"id_7567e5f3-5bd1-49dd-b5e8-2773a8f004d7\">\n",
              "    <style>\n",
              "      .colab-df-generate {\n",
              "        background-color: #E8F0FE;\n",
              "        border: none;\n",
              "        border-radius: 50%;\n",
              "        cursor: pointer;\n",
              "        display: none;\n",
              "        fill: #1967D2;\n",
              "        height: 32px;\n",
              "        padding: 0 0 0 0;\n",
              "        width: 32px;\n",
              "      }\n",
              "\n",
              "      .colab-df-generate:hover {\n",
              "        background-color: #E2EBFA;\n",
              "        box-shadow: 0px 1px 2px rgba(60, 64, 67, 0.3), 0px 1px 3px 1px rgba(60, 64, 67, 0.15);\n",
              "        fill: #174EA6;\n",
              "      }\n",
              "\n",
              "      [theme=dark] .colab-df-generate {\n",
              "        background-color: #3B4455;\n",
              "        fill: #D2E3FC;\n",
              "      }\n",
              "\n",
              "      [theme=dark] .colab-df-generate:hover {\n",
              "        background-color: #434B5C;\n",
              "        box-shadow: 0px 1px 3px 1px rgba(0, 0, 0, 0.15);\n",
              "        filter: drop-shadow(0px 1px 2px rgba(0, 0, 0, 0.3));\n",
              "        fill: #FFFFFF;\n",
              "      }\n",
              "    </style>\n",
              "    <button class=\"colab-df-generate\" onclick=\"generateWithVariable('data')\"\n",
              "            title=\"Generate code using this dataframe.\"\n",
              "            style=\"display:none;\">\n",
              "\n",
              "  <svg xmlns=\"http://www.w3.org/2000/svg\" height=\"24px\"viewBox=\"0 0 24 24\"\n",
              "       width=\"24px\">\n",
              "    <path d=\"M7,19H8.4L18.45,9,17,7.55,7,17.6ZM5,21V16.75L18.45,3.32a2,2,0,0,1,2.83,0l1.4,1.43a1.91,1.91,0,0,1,.58,1.4,1.91,1.91,0,0,1-.58,1.4L9.25,21ZM18.45,9,17,7.55Zm-12,3A5.31,5.31,0,0,0,4.9,8.1,5.31,5.31,0,0,0,1,6.5,5.31,5.31,0,0,0,4.9,4.9,5.31,5.31,0,0,0,6.5,1,5.31,5.31,0,0,0,8.1,4.9,5.31,5.31,0,0,0,12,6.5,5.46,5.46,0,0,0,6.5,12Z\"/>\n",
              "  </svg>\n",
              "    </button>\n",
              "    <script>\n",
              "      (() => {\n",
              "      const buttonEl =\n",
              "        document.querySelector('#id_7567e5f3-5bd1-49dd-b5e8-2773a8f004d7 button.colab-df-generate');\n",
              "      buttonEl.style.display =\n",
              "        google.colab.kernel.accessAllowed ? 'block' : 'none';\n",
              "\n",
              "      buttonEl.onclick = () => {\n",
              "        google.colab.notebook.generateWithVariable('data');\n",
              "      }\n",
              "      })();\n",
              "    </script>\n",
              "  </div>\n",
              "\n",
              "    </div>\n",
              "  </div>\n"
            ],
            "application/vnd.google.colaboratory.intrinsic+json": {
              "type": "dataframe",
              "variable_name": "data",
              "summary": "{\n  \"name\": \"data\",\n  \"rows\": 50000,\n  \"fields\": [\n    {\n      \"column\": \"ViewCount\",\n      \"properties\": {\n        \"dtype\": \"number\",\n        \"std\": 5967,\n        \"min\": 3,\n        \"max\": 434533,\n        \"num_unique_values\": 6113,\n        \"samples\": [\n          7365,\n          335,\n          1281\n        ],\n        \"semantic_type\": \"\",\n        \"description\": \"\"\n      }\n    },\n    {\n      \"column\": \"CommentCount\",\n      \"properties\": {\n        \"dtype\": \"number\",\n        \"std\": 2,\n        \"min\": 0,\n        \"max\": 34,\n        \"num_unique_values\": 34,\n        \"samples\": [\n          17,\n          24,\n          28\n        ],\n        \"semantic_type\": \"\",\n        \"description\": \"\"\n      }\n    },\n    {\n      \"column\": \"question_quality\",\n      \"properties\": {\n        \"dtype\": \"category\",\n        \"num_unique_values\": 4,\n        \"samples\": [\n          \"good quality\",\n          \"unknown\",\n          \"low quality\"\n        ],\n        \"semantic_type\": \"\",\n        \"description\": \"\"\n      }\n    },\n    {\n      \"column\": \"Title_Text_Length\",\n      \"properties\": {\n        \"dtype\": \"number\",\n        \"std\": 24,\n        \"min\": 15,\n        \"max\": 163,\n        \"num_unique_values\": 141,\n        \"samples\": [\n          15,\n          123,\n          29\n        ],\n        \"semantic_type\": \"\",\n        \"description\": \"\"\n      }\n    },\n    {\n      \"column\": \"Body_Text_Length\",\n      \"properties\": {\n        \"dtype\": \"number\",\n        \"std\": 806,\n        \"min\": 32,\n        \"max\": 23809,\n        \"num_unique_values\": 3747,\n        \"samples\": [\n          3430,\n          1310,\n          1414\n        ],\n        \"semantic_type\": \"\",\n        \"description\": \"\"\n      }\n    },\n    {\n      \"column\": \"Body_Sentences_Count\",\n      \"properties\": {\n        \"dtype\": \"number\",\n        \"std\": 8,\n        \"min\": 1,\n        \"max\": 250,\n        \"num_unique_values\": 104,\n        \"samples\": [\n          23,\n          72,\n          48\n        ],\n        \"semantic_type\": \"\",\n        \"description\": \"\"\n      }\n    }\n  ]\n}"
            }
          },
          "metadata": {},
          "execution_count": 141
        }
      ]
    },
    {
      "cell_type": "markdown",
      "source": [
        "# **3. Exploratory Data Analysis**"
      ],
      "metadata": {
        "id": "B4oBry13tr2K"
      }
    },
    {
      "cell_type": "markdown",
      "source": [
        "3.1 Observe dependent column"
      ],
      "metadata": {
        "id": "GNscfWGFtyEU"
      }
    },
    {
      "cell_type": "code",
      "source": [
        "print('Dataset shape: ', data.shape)"
      ],
      "metadata": {
        "id": "2n8yCNT9_gTi",
        "colab": {
          "base_uri": "https://localhost:8080/"
        },
        "outputId": "66d63833-8d82-46f8-fa0c-df3563dd44f1"
      },
      "execution_count": 142,
      "outputs": [
        {
          "output_type": "stream",
          "name": "stdout",
          "text": [
            "Dataset shape:  (50000, 6)\n"
          ]
        }
      ]
    },
    {
      "cell_type": "code",
      "source": [
        "data['question_quality'].value_counts()"
      ],
      "metadata": {
        "colab": {
          "base_uri": "https://localhost:8080/",
          "height": 261
        },
        "id": "Z0vePTs0t7pk",
        "outputId": "80477a09-0e22-46bd-e284-9f3664a0dbde"
      },
      "execution_count": 143,
      "outputs": [
        {
          "output_type": "execute_result",
          "data": {
            "text/plain": [
              "question_quality\n",
              "low quality         41422\n",
              "good quality         5531\n",
              "very low quality     2893\n",
              "unknown               154\n",
              "Name: count, dtype: int64"
            ],
            "text/html": [
              "<div>\n",
              "<style scoped>\n",
              "    .dataframe tbody tr th:only-of-type {\n",
              "        vertical-align: middle;\n",
              "    }\n",
              "\n",
              "    .dataframe tbody tr th {\n",
              "        vertical-align: top;\n",
              "    }\n",
              "\n",
              "    .dataframe thead th {\n",
              "        text-align: right;\n",
              "    }\n",
              "</style>\n",
              "<table border=\"1\" class=\"dataframe\">\n",
              "  <thead>\n",
              "    <tr style=\"text-align: right;\">\n",
              "      <th></th>\n",
              "      <th>count</th>\n",
              "    </tr>\n",
              "    <tr>\n",
              "      <th>question_quality</th>\n",
              "      <th></th>\n",
              "    </tr>\n",
              "  </thead>\n",
              "  <tbody>\n",
              "    <tr>\n",
              "      <th>low quality</th>\n",
              "      <td>41422</td>\n",
              "    </tr>\n",
              "    <tr>\n",
              "      <th>good quality</th>\n",
              "      <td>5531</td>\n",
              "    </tr>\n",
              "    <tr>\n",
              "      <th>very low quality</th>\n",
              "      <td>2893</td>\n",
              "    </tr>\n",
              "    <tr>\n",
              "      <th>unknown</th>\n",
              "      <td>154</td>\n",
              "    </tr>\n",
              "  </tbody>\n",
              "</table>\n",
              "</div><br><label><b>dtype:</b> int64</label>"
            ]
          },
          "metadata": {},
          "execution_count": 143
        }
      ]
    },
    {
      "cell_type": "code",
      "source": [
        "#percentage of class present in target variable(y)\n",
        "print(\"percentage of low_quality, good_quality and very low quality \\n\", data['question_quality'].value_counts()/len(data)*100)"
      ],
      "metadata": {
        "colab": {
          "base_uri": "https://localhost:8080/"
        },
        "id": "wtX5juwOuDLL",
        "outputId": "bd4c92ec-72a3-46c8-e5ca-bb6d7be1889e"
      },
      "execution_count": 144,
      "outputs": [
        {
          "output_type": "stream",
          "name": "stdout",
          "text": [
            "percentage of low_quality, good_quality and very low quality \n",
            " question_quality\n",
            "low quality         82.844\n",
            "good quality        11.062\n",
            "very low quality     5.786\n",
            "unknown              0.308\n",
            "Name: count, dtype: float64\n"
          ]
        }
      ]
    },
    {
      "cell_type": "code",
      "source": [
        "plt.style.use('ggplot')\n",
        "\n",
        "plt.figure(figsize=(20,4))\n",
        "ax = plt.subplot(121)\n",
        "data['question_quality'].value_counts(normalize=True).plot(kind='bar')\n",
        "plt.xlabel('question_quality')\n",
        "plt.ylabel('percentage of question_quality')\n",
        "plt.title('question_quality')\n",
        "\n",
        "#Add percentage labels to the top of each bar\n",
        "for p in ax.patches:\n",
        "  ax.text(p.get_x()+p.get_width()/2., p.get_height()+0.02, f\"{p.get_height()*100:.1f}%\", ha=\"center\")"
      ],
      "metadata": {
        "colab": {
          "base_uri": "https://localhost:8080/",
          "height": 532
        },
        "id": "FSyqC13ku6cM",
        "outputId": "1a4c39ba-e186-4dda-cb2a-fd46a598389a"
      },
      "execution_count": 145,
      "outputs": [
        {
          "output_type": "display_data",
          "data": {
            "text/plain": [
              "<Figure size 2000x400 with 1 Axes>"
            ],
            "image/png": "[encoded data removed]"
          },
          "metadata": {}
        }
      ]
    },
    {
      "cell_type": "markdown",
      "source": [
        "The data in the question_quality column is imbalanced, with a distribution of 82.8% for one class, 11% for another, 5.8% for a third, and only 0.3% for the \"unknown\" category. Since the \"unknown\" data is minimal, we can either remove or replace it."
      ],
      "metadata": {
        "id": "DZMsb3alx0JJ"
      }
    },
    {
      "cell_type": "code",
      "source": [
        "data = data[data['question_quality'] != 'unknown']"
      ],
      "metadata": {
        "id": "MAxtSEgTwv3p"
      },
      "execution_count": 146,
      "outputs": []
    },
    {
      "cell_type": "code",
      "source": [
        "data.replace({'question_quality' : { 'very low quality' : 0, 'good quality' : 2, 'low quality' : 1 }},inplace=True)"
      ],
      "metadata": {
        "colab": {
          "base_uri": "https://localhost:8080/"
        },
        "id": "Q44rD-rlyTbR",
        "outputId": "4f2f0187-af8e-45e8-9ea3-f712a7577d5a"
      },
      "execution_count": 147,
      "outputs": [
        {
          "output_type": "stream",
          "name": "stderr",
          "text": [
            "<ipython-input-147-2e22b20a6400>:1: FutureWarning: Downcasting behavior in `replace` is deprecated and will be removed in a future version. To retain the old behavior, explicitly call `result.infer_objects(copy=False)`. To opt-in to the future behavior, set `pd.set_option('future.no_silent_downcasting', True)`\n",
            "  data.replace({'question_quality' : { 'very low quality' : 0, 'good quality' : 2, 'low quality' : 1 }},inplace=True)\n",
            "<ipython-input-147-2e22b20a6400>:1: SettingWithCopyWarning: \n",
            "A value is trying to be set on a copy of a slice from a DataFrame.\n",
            "Try using .loc[row_indexer,col_indexer] = value instead\n",
            "\n",
            "See the caveats in the documentation: https://pandas.pydata.org/pandas-docs/stable/user_guide/indexing.html#returning-a-view-versus-a-copy\n",
            "  data.replace({'question_quality' : { 'very low quality' : 0, 'good quality' : 2, 'low quality' : 1 }},inplace=True)\n"
          ]
        }
      ]
    },
    {
      "cell_type": "markdown",
      "source": [
        "3.2 Univariate Analysis"
      ],
      "metadata": {
        "id": "AxDAucYPywvQ"
      }
    },
    {
      "cell_type": "code",
      "source": [
        "# plotting histogram for each numerical variable\n",
        "column_names = list(data.columns)\n",
        "column_names.remove('question_quality')\n",
        "plt.style.use(\"ggplot\")\n",
        "for column in column_names:\n",
        "    plt.figure(figsize=(20,4))\n",
        "    plt.subplot(121)\n",
        "    sns.distplot(data[column], kde=True, rug=True)\n",
        "    plt.title(column)"
      ],
      "metadata": {
        "colab": {
          "base_uri": "https://localhost:8080/",
          "height": 1000
        },
        "id": "tz_u4FWqyuPs",
        "outputId": "a5df4026-d6c2-4ec4-b4e0-83dcad75a656"
      },
      "execution_count": 148,
      "outputs": [
        {
          "output_type": "stream",
          "name": "stderr",
          "text": [
            "<ipython-input-148-81e98e6c2049>:8: UserWarning: \n",
            "\n",
            "`distplot` is a deprecated function and will be removed in seaborn v0.14.0.\n",
            "\n",
            "Please adapt your code to use either `displot` (a figure-level function with\n",
            "similar flexibility) or `histplot` (an axes-level function for histograms).\n",
            "\n",
            "For a guide to updating your code to use the new functions, please see\n",
            "https://gist.github.com/mwaskom/de44147ed2974457ad6372750bbe5751\n",
            "\n",
            "  sns.distplot(data[column], kde=True, rug=True)\n",
            "<ipython-input-148-81e98e6c2049>:8: UserWarning: \n",
            "\n",
            "`distplot` is a deprecated function and will be removed in seaborn v0.14.0.\n",
            "\n",
            "Please adapt your code to use either `displot` (a figure-level function with\n",
            "similar flexibility) or `histplot` (an axes-level function for histograms).\n",
            "\n",
            "For a guide to updating your code to use the new functions, please see\n",
            "https://gist.github.com/mwaskom/de44147ed2974457ad6372750bbe5751\n",
            "\n",
            "  sns.distplot(data[column], kde=True, rug=True)\n",
            "<ipython-input-148-81e98e6c2049>:8: UserWarning: \n",
            "\n",
            "`distplot` is a deprecated function and will be removed in seaborn v0.14.0.\n",
            "\n",
            "Please adapt your code to use either `displot` (a figure-level function with\n",
            "similar flexibility) or `histplot` (an axes-level function for histograms).\n",
            "\n",
            "For a guide to updating your code to use the new functions, please see\n",
            "https://gist.github.com/mwaskom/de44147ed2974457ad6372750bbe5751\n",
            "\n",
            "  sns.distplot(data[column], kde=True, rug=True)\n",
            "<ipython-input-148-81e98e6c2049>:8: UserWarning: \n",
            "\n",
            "`distplot` is a deprecated function and will be removed in seaborn v0.14.0.\n",
            "\n",
            "Please adapt your code to use either `displot` (a figure-level function with\n",
            "similar flexibility) or `histplot` (an axes-level function for histograms).\n",
            "\n",
            "For a guide to updating your code to use the new functions, please see\n",
            "https://gist.github.com/mwaskom/de44147ed2974457ad6372750bbe5751\n",
            "\n",
            "  sns.distplot(data[column], kde=True, rug=True)\n",
            "<ipython-input-148-81e98e6c2049>:8: UserWarning: \n",
            "\n",
            "`distplot` is a deprecated function and will be removed in seaborn v0.14.0.\n",
            "\n",
            "Please adapt your code to use either `displot` (a figure-level function with\n",
            "similar flexibility) or `histplot` (an axes-level function for histograms).\n",
            "\n",
            "For a guide to updating your code to use the new functions, please see\n",
            "https://gist.github.com/mwaskom/de44147ed2974457ad6372750bbe5751\n",
            "\n",
            "  sns.distplot(data[column], kde=True, rug=True)\n"
          ]
        },
        {
          "output_type": "display_data",
          "data": {
            "text/plain": [
              "<Figure size 2000x400 with 1 Axes>"
            ],
            "image/png": "[encoded data removed]"
          },
          "metadata": {}
        },
        {
          "output_type": "display_data",
          "data": {
            "text/plain": [
              "<Figure size 2000x400 with 1 Axes>"
            ],
            "image/png": "[encoded data removed]"
          },
          "metadata": {}
        },
        {
          "output_type": "display_data",
          "data": {
            "text/plain": [
              "<Figure size 2000x400 with 1 Axes>"
            ],
            "image/png": "[encoded data removed]"
          },
          "metadata": {}
        },
        {
          "output_type": "display_data",
          "data": {
            "text/plain": [
              "<Figure size 2000x400 with 1 Axes>"
            ],
            "image/png": "[encoded data removed]"
          },
          "metadata": {}
        },
        {
          "output_type": "display_data",
          "data": {
            "text/plain": [
              "<Figure size 2000x400 with 1 Axes>"
            ],
            "image/png": "[encoded data removed]"
          },
          "metadata": {}
        }
      ]
    },
    {
      "cell_type": "markdown",
      "source": [
        "Most of the columns exhibit skewed data, with the exception of Title_char_count and Title_word_count.\n",
        "\n",
        "Since the outliers in this case are valuable, we cannot remove them, and thus, addressing skewness is not feasible."
      ],
      "metadata": {
        "id": "rTKOtohqMDe8"
      }
    },
    {
      "cell_type": "markdown",
      "source": [
        "3.3 correlation"
      ],
      "metadata": {
        "id": "n6aTCDmM0WHZ"
      }
    },
    {
      "cell_type": "code",
      "source": [
        "plt.figure(figsize=(25,15))\n",
        "sns.heatmap(data.corr(), annot=True)"
      ],
      "metadata": {
        "id": "ksOC3M3UzcDw",
        "colab": {
          "base_uri": "https://localhost:8080/",
          "height": 815
        },
        "outputId": "e5515e71-da92-4656-9276-1177c61ce426"
      },
      "execution_count": 149,
      "outputs": [
        {
          "output_type": "execute_result",
          "data": {
            "text/plain": [
              "<Axes: >"
            ]
          },
          "metadata": {},
          "execution_count": 149
        },
        {
          "output_type": "display_data",
          "data": {
            "text/plain": [
              "<Figure size 2500x1500 with 2 Axes>"
            ],
            "image/png": "[encoded data removed]"
          },
          "metadata": {}
        }
      ]
    },
    {
      "cell_type": "markdown",
      "source": [
        "#**4. Split dataset into train and test**"
      ],
      "metadata": {
        "id": "e3ZtuIKC25Qn"
      }
    },
    {
      "cell_type": "code",
      "source": [
        "X = data.drop(['question_quality'], axis=1)\n",
        "y = data['question_quality']\n",
        "\n",
        "'''from imblearn.over_sampling import SMOTENC\n",
        "\n",
        "cat_features = np.array([0, 1, 2])\n",
        "# Define the SMOTENC object with a sampling strategy for each class\n",
        "sampling_strategy = {0: 20000, 1: 44000, 2: 20000}\n",
        "smote_nc = SMOTENC(sampling_strategy=sampling_strategy, categorical_features=cat_features, random_state=42)\n",
        "\n",
        "# Apply SMOTE-NC oversampling to the training data\n",
        "X_resampled, y_resampled = smote_nc.fit_resample(p, q)\n",
        "\n",
        "# Check the class distribution of the resampled data\n",
        "print(y_resampled.value_counts())'''\n",
        "\n",
        "X_train, X_test, y_train, y_test = train_test_split(X, y, test_size=0.33, random_state=42)"
      ],
      "metadata": {
        "id": "BtEMUlSL0kK5"
      },
      "execution_count": 151,
      "outputs": []
    },
    {
      "cell_type": "markdown",
      "source": [
        "# **5. Scaling**"
      ],
      "metadata": {
        "id": "nl4j-f7m3tP3"
      }
    },
    {
      "cell_type": "code",
      "source": [
        "scaler = StandardScaler()\n",
        "X_train = scaler.fit_transform(X_train)\n",
        "X_test = scaler.transform(X_test)"
      ],
      "metadata": {
        "id": "_7GRpknJ3ND1"
      },
      "execution_count": 152,
      "outputs": []
    },
    {
      "cell_type": "markdown",
      "source": [
        "# **6.Model**"
      ],
      "metadata": {
        "id": "Fx3kW6fH4I4n"
      }
    },
    {
      "cell_type": "markdown",
      "source": [
        "6.1 Logistic Regression"
      ],
      "metadata": {
        "id": "tUXhod1n4O-9"
      }
    },
    {
      "cell_type": "code",
      "source": [
        "lr_model = LogisticRegression(max_iter=1000)\n",
        "lr_model.fit(X_train, y_train)\n",
        "\n",
        "train_predicted = lr_model.predict(X_train)\n",
        "test_predicted = lr_model.predict(X_test)\n",
        "\n",
        "print(\"The accuracy of Logistic Regression on train data is: \", accuracy_score(y_train, train_predicted)*100, \"%\")\n",
        "print(\"The accuracy of Logistic Regression on test data is: \", accuracy_score(y_test, test_predicted)*100, \"%\")\n",
        "\n",
        "print(\"\\nPrecision : \", precision_score(y_test, test_predicted, average='weighted'))\n",
        "print(\"Recall : \",recall_score(y_test, test_predicted, average='weighted'))\n",
        "print(\"F1-score : \", f1_score(y_test, test_predicted, average='weighted'))"
      ],
      "metadata": {
        "colab": {
          "base_uri": "https://localhost:8080/"
        },
        "id": "DIe-kdOy4FNy",
        "outputId": "7d8189c6-5ebe-48d5-e1ae-bf14d387a70f"
      },
      "execution_count": 155,
      "outputs": [
        {
          "output_type": "stream",
          "name": "stdout",
          "text": [
            "The accuracy of Logistic Regression on train data is:  83.45310815666546 %\n",
            "The accuracy of Logistic Regression on test data is:  83.5258358662614 %\n",
            "\n",
            "Precision :  0.7661469260256334\n",
            "Recall :  0.835258358662614\n",
            "F1-score :  0.7729107354191166\n"
          ]
        }
      ]
    },
    {
      "cell_type": "markdown",
      "source": [
        "These results show that the Logistic Regression model is performing consistently on both the training and test sets, achieving accuracies of around 83.5%. This indicates that the model is not overfitting to the training data and is generalizing well to new, unseen data."
      ],
      "metadata": {
        "id": "koP5Jdjm6sBa"
      }
    },
    {
      "cell_type": "markdown",
      "source": [
        "6.2 RandomForestClassifier"
      ],
      "metadata": {
        "id": "-LH0AQd56wDf"
      }
    },
    {
      "cell_type": "code",
      "source": [
        "from sklearn.ensemble import RandomForestClassifier\n",
        "rf_model = RandomForestClassifier(n_estimators=100, random_state=0)\n",
        "rf_model.fit(X_train, y_train)\n",
        "train_predicted = rf_model.predict(X_train)\n",
        "test_predicted = rf_model.predict(X_test)\n",
        "\n",
        "print(\"The accuracy of Random Forest on train data is : \", accuracy_score(y_train, train_predicted)*100, \"%\")\n",
        "print(\"The accuracy of Random Forest on test data is : \", accuracy_score(y_test, test_predicted)*100, \"%\")\n",
        "\n",
        "test_precision =  precision_score(y_test, test_predicted, average='weighted')\n",
        "test_recall = recall_score(y_test, test_predicted, average='weighted')\n",
        "test_f1 =  f1_score(y_test, test_predicted, average='weighted')\n",
        "\n",
        "print(\"Precision (test): \", test_precision)\n",
        "print(\"Recall (test): \", test_recall)\n",
        "print(\"F1-score (test): \", test_f1)"
      ],
      "metadata": {
        "colab": {
          "base_uri": "https://localhost:8080/"
        },
        "id": "uwoAnimc5PKk",
        "outputId": "2a56db92-a695-4d2b-f7ee-6b0b489681ac"
      },
      "execution_count": 156,
      "outputs": [
        {
          "output_type": "stream",
          "name": "stdout",
          "text": [
            "The accuracy of Random Forest on train data is :  100.0 %\n",
            "The accuracy of Random Forest on test data is :  83.12462006079028 %\n",
            "Precision (test):  0.764288684177136\n",
            "Recall (test):  0.8312462006079028\n",
            "F1-score (test):  0.7838667416268802\n"
          ]
        }
      ]
    },
    {
      "cell_type": "code",
      "source": [
        "importances = rf_model.feature_importances_\n",
        "df1 = pd.DataFrame({\"Features\":pd.DataFrame(X_test).columns, \"importances\":importances})\n",
        "df1.set_index(\"importances\")\n",
        "\n",
        "df1 = df1.sort_values('importances')"
      ],
      "metadata": {
        "id": "U59PiLBX8tlt"
      },
      "execution_count": 157,
      "outputs": []
    },
    {
      "cell_type": "markdown",
      "source": [
        "The results reveal that the Random Forest Classifier model achieves perfect precision, recall, and F1-score on the training set, but slightly lower performance on the test set. This suggests potential overfitting to the training data.\n",
        "\n",
        "However, the precision, recall, and F1-score values on the test set are crucial for assessing the model's performance on new, unseen data. With an F1-score of 0.78 on the test set, the model demonstrates reasonable overall performance, though there is still room for improvement."
      ],
      "metadata": {
        "id": "tGfLhZjU9lJC"
      }
    },
    {
      "cell_type": "markdown",
      "source": [
        "6.3 Cross validation"
      ],
      "metadata": {
        "id": "2GNMXDfX9rIY"
      }
    },
    {
      "cell_type": "code",
      "source": [
        "from sklearn.model_selection import StratifiedKFold\n",
        "from sklearn.model_selection import cross_val_score\n",
        "from sklearn.ensemble import RandomForestClassifier\n",
        "import numpy as np\n",
        "\n",
        "# Define the number of folds\n",
        "n_folds = 3\n",
        "\n",
        "# Define the multi-class classification model\n",
        "model = RandomForestClassifier()\n",
        "\n",
        "# Define the cross-validation model\n",
        "skf = StratifiedKFold(n_splits=n_folds, shuffle=True, random_state=42)\n",
        "\n",
        "# Perform cross-validation\n",
        "scores = cross_val_score(model, X, y, cv=skf, scoring='accuracy')\n",
        "\n",
        "# Print the scores for each fold\n",
        "print(\"Cross-validation scores:\", scores)\n",
        "\n",
        "# Calculate the mean and standard deviation of the scores\n",
        "print(\"Mean accuracy:\", np.mean(scores))\n",
        "print(\"Standard deviation:\", np.std(scores))\n"
      ],
      "metadata": {
        "colab": {
          "base_uri": "https://localhost:8080/"
        },
        "id": "BZeqX4OV9ijH",
        "outputId": "f0bfc284-9357-4410-8139-3eebb35a2cd8"
      },
      "execution_count": 158,
      "outputs": [
        {
          "output_type": "stream",
          "name": "stdout",
          "text": [
            "Cross-validation scores: [0.83088589 0.83153777 0.83207945]\n",
            "Mean accuracy: 0.8315010354921634\n",
            "Standard deviation: 0.0004879577840347175\n"
          ]
        }
      ]
    },
    {
      "cell_type": "code",
      "source": [
        "from imblearn.over_sampling import SMOTE\n",
        "from sklearn.feature_extraction.text import CountVectorizer\n",
        "\n",
        "count_vec = CountVectorizer(max_features=10000)\n",
        "bow = count_vec.fit_transform(df['Body'])\n",
        "X = bow\n",
        "y = df['question_quality']\n",
        "\n",
        "# split data into train and test sets\n",
        "X_train, X_test, y_train, y_test = train_test_split(X, y, test_size=0.3, stratify=y)\n",
        "\n",
        "#create an instance of the SMOTE class\n",
        "smote = SMOTE()\n",
        "\n",
        "#fit and apply smote to the training data only\n",
        "X_train_resampled, y_train_resampled = smote.fit_resample(X_train, y_train)\n",
        "\n",
        "#convert the resampled X_train to a dense numpy array\n",
        "X_train_resampled = X_train_resampled.toarray()\n",
        "#train your model on the resampled training data\n",
        "model = MultinomialNB().fit(X_train_resampled, y_train_resampled)\n",
        "\n",
        "\n",
        "#evaluate the model on test set\n",
        "\n",
        "train_predicted = model.predict(X_train)\n",
        "test_predicted = model.predict(X_test)\n",
        "test_precision = precision_score(y_test, test_predicted, average='weighted')\n",
        "test_recall = recall_score(y_test, test_predicted, average='weighted')\n",
        "test_f1 = f1_score(y_test, test_predicted, average='weighted')\n",
        "\n",
        "print(\"Precision (test): \", test_precision)\n",
        "print(\"Recall (test): \", test_recall)\n",
        "print(\"F1-score (test): \", test_f1)"
      ],
      "metadata": {
        "colab": {
          "base_uri": "https://localhost:8080/"
        },
        "id": "MbY15SV5A-Iq",
        "outputId": "827a801c-e42e-4b02-ca42-2d34723bf6da"
      },
      "execution_count": 159,
      "outputs": [
        {
          "output_type": "stream",
          "name": "stdout",
          "text": [
            "Precision (test):  0.7307392568886496\n",
            "Recall (test):  0.6954666666666667\n",
            "F1-score (test):  0.7117202413327857\n"
          ]
        }
      ]
    },
    {
      "cell_type": "code",
      "source": [
        "importances = rf_model.feature_importances_\n",
        "# Ensure the number of columns in X_test matches the feature importances\n",
        "if X_test.shape[1] == len(importances):\n",
        "    df1 = pd.DataFrame({\n",
        "        \"Features\": X_test.columns,\n",
        "        \"importances\": importances\n",
        "    })\n",
        "    df1.set_index(\"Features\", inplace=True)\n",
        "    df1 = df1.sort_values('importances')\n",
        "    df1.plot.bar(color='teal', title=\"Feature Importances\", legend=False)\n",
        "else:\n",
        "    print(\"Mismatch between number of features in X_test and length of feature importances.\")\n"
      ],
      "metadata": {
        "colab": {
          "base_uri": "https://localhost:8080/"
        },
        "id": "VsIJA_A5EblN",
        "outputId": "3ad62edf-e28a-419b-80cf-326ab5e42474"
      },
      "execution_count": 163,
      "outputs": [
        {
          "output_type": "stream",
          "name": "stdout",
          "text": [
            "Mismatch between number of features in X_test and length of feature importances.\n"
          ]
        }
      ]
    },
    {
      "cell_type": "markdown",
      "source": [
        "Random Forest:\n",
        "\n",
        "    Train Accuracy: 100%\n",
        "    Test Accuracy: 83.12%\n",
        "    Train Precision, Recall, and F1-score: 1.0, 1.0, 1.0\n",
        "    Test Precision, Recall, and F1-score: 0.76, 0.83, 0.78\n",
        "\n",
        "Logistic Regression:\n",
        "\n",
        "    Train Accuracy: 83.45%\n",
        "    Test Accuracy: 83.53%\n",
        "    Train Precision, Recall, and F1-score: 0.76, 0.83, 0.77\n",
        "    Test Precision, Recall, and F1-score: 0.77, 0.84, 0.77\n",
        "\n",
        "Multinomial Naive Bayes with SMOTE:\n",
        "\n",
        "    Test Accuracy: 70.87%\n",
        "    Test Precision: 0.73\n",
        "    Test Recall: 0.70\n",
        "    Test F1-score: 0.72\n",
        "\n",
        "Based on accuracy and F1-score, Random Forest and Logistic Regression outperform Multinomial Naive Bayes. Random Forest achieves the highest train accuracy and perfect precision, recall, and F1-scores on the training set, along with strong performance on the test set. Logistic Regression also performs well, with similar accuracy and F1-score, and its precision and recall on the test set surpass those of Random Forest."
      ],
      "metadata": {
        "id": "nCyInuD3G5C4"
      }
    },
    {
      "cell_type": "markdown",
      "source": [
        "**Feature Importance**"
      ],
      "metadata": {
        "id": "PBTGn7XkG8YA"
      }
    },
    {
      "cell_type": "code",
      "source": [
        "feature_names = list(data.columns)\n",
        "print(feature_names)\n",
        "if 'question_quality' in feature_names:\n",
        "  feature_names.remove('question_quality')\n",
        "total_importance = importances.sum()\n",
        "percent_importances = importances / total_importance * 100\n",
        "\n",
        "# Create a dataframe with the feature names and their percent importances\n",
        "df = pd.DataFrame({\"feature_names\": feature_names, 'percent_importances' : percent_importances})\n",
        "\n",
        "# Sort the dataframe by percent importances in descending order\n",
        "df = df.sort_values(by='percent_importances', ascending=False)\n",
        "\n",
        "# Create a bar plot of the percent importances\n",
        "plt.bar(x=df['feature_names'], height=df['percent_importances'], color='teal')\n",
        "plt.xticks(rotation=90)\n",
        "plt.xlabel('Feature')\n",
        "plt.ylabel('Percent Importance')\n",
        "plt.show()"
      ],
      "metadata": {
        "colab": {
          "base_uri": "https://localhost:8080/",
          "height": 639
        },
        "id": "n5EfbSXyHAon",
        "outputId": "ae846d98-8a9d-4186-828e-795b8ddce979"
      },
      "execution_count": 162,
      "outputs": [
        {
          "output_type": "stream",
          "name": "stdout",
          "text": [
            "['ViewCount', 'CommentCount', 'question_quality', 'Title_Text_Length', 'Body_Text_Length', 'Body_Sentences_Count']\n"
          ]
        },
        {
          "output_type": "display_data",
          "data": {
            "text/plain": [
              "<Figure size 640x480 with 1 Axes>"
            ],
            "image/png": "[encoded data removed]"
          },
          "metadata": {}
        }
      ]
    },
    {
      "cell_type": "markdown",
      "source": [
        "# **Conclusion**"
      ],
      "metadata": {
        "id": "Lh2777NDJM_s"
      }
    },
    {
      "cell_type": "markdown",
      "source": [
        "Logistic regression is a widely used and effective classification algorithm, particularly suited for situations where there is a linear relationship between the input variables and the output. In this case, logistic regression achieved strong accuracy on both the training and test datasets, as well as solid performance in terms of precision, recall, and F1-score.\n",
        "\n",
        "Moreover, logistic regression is a simple and interpretable model, which is advantageous when understanding the relationship between input variables and the output is crucial. It is also computationally efficient and can handle large datasets with ease.\n",
        "\n",
        "Overall, logistic regression proved to be a strong choice for this problem, offering solid performance while maintaining simplicity and interpretability."
      ],
      "metadata": {
        "id": "oiI5RBreJSWI"
      }
    },
    {
      "cell_type": "code",
      "source": [],
      "metadata": {
        "id": "h0VEWoyhI9cS"
      },
      "execution_count": null,
      "outputs": []
    }
  ]
}